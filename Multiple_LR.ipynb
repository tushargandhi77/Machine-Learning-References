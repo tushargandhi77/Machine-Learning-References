{
 "cells": [
  {
   "cell_type": "code",
   "execution_count": 1,
   "metadata": {},
   "outputs": [],
   "source": [
    "from sklearn.datasets import make_regression\n",
    "import pandas as pd \n",
    "import numpy as np \n",
    "\n",
    "import plotly.express as px\n",
    "import plotly.graph_objects as go \n",
    "\n",
    "from sklearn.metrics import mean_absolute_error, mean_squared_error,r2_score"
   ]
  },
  {
   "cell_type": "code",
   "execution_count": 2,
   "metadata": {},
   "outputs": [],
   "source": [
    "X, y = make_regression(n_samples=100,n_features=2,n_informative=2,n_targets=1,noise=50)"
   ]
  },
  {
   "cell_type": "code",
   "execution_count": 3,
   "metadata": {},
   "outputs": [],
   "source": [
    "df = pd.DataFrame({'feature1':X[:,0],'feature2':X[:,1],'target':y})"
   ]
  },
  {
   "cell_type": "code",
   "execution_count": 4,
   "metadata": {},
   "outputs": [
    {
     "data": {
      "text/html": [
       "<div>\n",
       "<style scoped>\n",
       "    .dataframe tbody tr th:only-of-type {\n",
       "        vertical-align: middle;\n",
       "    }\n",
       "\n",
       "    .dataframe tbody tr th {\n",
       "        vertical-align: top;\n",
       "    }\n",
       "\n",
       "    .dataframe thead th {\n",
       "        text-align: right;\n",
       "    }\n",
       "</style>\n",
       "<table border=\"1\" class=\"dataframe\">\n",
       "  <thead>\n",
       "    <tr style=\"text-align: right;\">\n",
       "      <th></th>\n",
       "      <th>feature1</th>\n",
       "      <th>feature2</th>\n",
       "      <th>target</th>\n",
       "    </tr>\n",
       "  </thead>\n",
       "  <tbody>\n",
       "    <tr>\n",
       "      <th>0</th>\n",
       "      <td>0.235757</td>\n",
       "      <td>-1.093860</td>\n",
       "      <td>8.823431</td>\n",
       "    </tr>\n",
       "    <tr>\n",
       "      <th>1</th>\n",
       "      <td>0.100661</td>\n",
       "      <td>-0.806776</td>\n",
       "      <td>-72.704133</td>\n",
       "    </tr>\n",
       "    <tr>\n",
       "      <th>2</th>\n",
       "      <td>0.278448</td>\n",
       "      <td>0.766625</td>\n",
       "      <td>44.107448</td>\n",
       "    </tr>\n",
       "    <tr>\n",
       "      <th>3</th>\n",
       "      <td>0.976276</td>\n",
       "      <td>1.047058</td>\n",
       "      <td>182.107933</td>\n",
       "    </tr>\n",
       "    <tr>\n",
       "      <th>4</th>\n",
       "      <td>0.402075</td>\n",
       "      <td>-0.277417</td>\n",
       "      <td>10.267166</td>\n",
       "    </tr>\n",
       "  </tbody>\n",
       "</table>\n",
       "</div>"
      ],
      "text/plain": [
       "   feature1  feature2      target\n",
       "0  0.235757 -1.093860    8.823431\n",
       "1  0.100661 -0.806776  -72.704133\n",
       "2  0.278448  0.766625   44.107448\n",
       "3  0.976276  1.047058  182.107933\n",
       "4  0.402075 -0.277417   10.267166"
      ]
     },
     "execution_count": 4,
     "metadata": {},
     "output_type": "execute_result"
    }
   ],
   "source": [
    "df.head()"
   ]
  },
  {
   "cell_type": "code",
   "execution_count": 5,
   "metadata": {},
   "outputs": [
    {
     "data": {
      "application/vnd.plotly.v1+json": {
       "config": {
        "plotlyServerURL": "https://plot.ly"
       },
       "data": [
        {
         "hovertemplate": "feature1=%{x}<br>feature2=%{y}<br>target=%{z}<extra></extra>",
         "legendgroup": "",
         "marker": {
          "color": "#636efa",
          "symbol": "circle"
         },
         "mode": "markers",
         "name": "",
         "scene": "scene",
         "showlegend": false,
         "type": "scatter3d",
         "x": [
          0.23575681782013158,
          0.10066079859331788,
          0.2784484882168828,
          0.9762761632596141,
          0.4020754888911489,
          0.6936553979829241,
          0.2605172769108547,
          0.626688350203435,
          1.1705439001719782,
          -0.001192167467677587,
          0.40777962406417434,
          0.5982975319038257,
          -0.11425302749655838,
          0.7017771337149645,
          -0.6426453516812617,
          1.967417508635984,
          0.4704472096563603,
          -0.1892888591498522,
          1.4238651213357854,
          -0.08549282058759797,
          1.2306567456309747,
          0.32885662491670314,
          0.7877032948088065,
          -1.572958289259153,
          0.2473289033386628,
          0.5410419970625603,
          0.628030461570606,
          1.2607372631807576,
          0.4394612374657056,
          1.169382355162835,
          0.3263198191371847,
          2.964007254374681,
          0.9525092824800633,
          1.4377811019174052,
          1.9488955140918216,
          -0.614569841269144,
          0.344270051827958,
          -0.4018057476765453,
          0.7722448887968482,
          -0.14216216337258042,
          2.0285011405194093,
          0.9132126784148127,
          1.5040397895539261,
          -0.8575652292002625,
          -0.9747114293133725,
          -1.953030670023081,
          1.5898093712029084,
          1.0163981815074468,
          0.40635924225884423,
          -1.0782623177758228,
          0.21496202767643183,
          -1.6852361597532977,
          0.9171377469112293,
          -0.6634553376591352,
          -0.8226699903277683,
          1.8299163539404226,
          -0.10546827890765907,
          0.8156925925268725,
          0.9382763457918494,
          0.77223676243397,
          -0.17030502997299524,
          -0.3248454928600533,
          -0.07479423933096326,
          0.4225474910142565,
          1.7083445273857227,
          -0.2603902461138676,
          0.5992507645010854,
          0.091418080359337,
          -0.11597700852447666,
          2.0072430815232356,
          0.4641065667194763,
          -1.1640079002628356,
          -0.5866842483605705,
          1.7660626627554674,
          -0.07053858638289802,
          0.6906948961592448,
          2.201570941843502,
          -1.3607074991180903,
          1.3884808875850134,
          0.4368484668820269,
          -1.7364905905076131,
          -0.23988528519425972,
          -0.12419418977535517,
          -0.11286954269151933,
          0.38430428718268234,
          0.056910051940029405,
          0.4596806103909287,
          2.7451488963551394,
          -0.45500556175102475,
          -1.0327614656392954,
          -0.9573774228578964,
          2.0553173905811777,
          0.14024250204058936,
          0.8809794570133606,
          -1.0107093136952816,
          0.008903856283353183,
          0.09731668955856114,
          0.26394808642332446,
          0.40959631046951966,
          0.4428323027180698
         ],
         "y": [
          -1.0938596142215957,
          -0.8067760055886114,
          0.7666246726502755,
          1.0470576121508548,
          -0.2774165506277154,
          -1.8782625065675047,
          0.06522909498972165,
          0.8685676422868822,
          0.777589887042555,
          -0.07879275264017371,
          -0.3607542853172412,
          0.19495474292219742,
          0.6442676792527736,
          0.01666995144038773,
          0.36459716671489667,
          -0.12025982749354398,
          0.25026455670751,
          0.9415045261231232,
          -0.33464005531657953,
          0.810932139082431,
          -1.493374128610356,
          1.2603606075871576,
          0.07190449985166242,
          0.6873494905531804,
          0.07816521409386418,
          0.9949497949974535,
          -1.3667069733714854,
          -0.6355613164939459,
          -0.3307427897190213,
          0.49585355004145515,
          0.4831174764793121,
          0.09912453772231632,
          -1.7793907462305567,
          -0.6557931131685905,
          -0.6873976417004047,
          -0.552596332979716,
          0.2519200747018643,
          0.7791710717924736,
          -0.3065960248033723,
          0.7686563506846624,
          0.7238480929682033,
          0.5898161417889091,
          -0.42820023936175095,
          1.2563161315353781,
          0.5058698592817349,
          -1.283922913592376,
          0.8161798086248723,
          -1.084574671678748,
          0.9354711144728849,
          -0.4051820061410758,
          0.2997723271097409,
          0.2173135302713859,
          0.4685201087515089,
          -0.493755773035737,
          3.1029546532133527,
          0.9939997978811047,
          0.46344590657980117,
          0.3461622005767134,
          1.2491888708902996,
          -0.649998772067549,
          -1.6208014411990768,
          0.1072678216558014,
          -0.09154106975465665,
          0.8741374263050629,
          0.5547003184592828,
          -0.8593685773155189,
          0.28291208064826373,
          1.032423947415847,
          1.2936358861494222,
          2.2178833453193505,
          -0.9312842989031924,
          -2.696509472028075,
          1.0373781672553986,
          1.6597765779709857,
          -0.11501785725266418,
          0.04378830362611498,
          -0.3606487432063177,
          0.49976297265120884,
          -0.06450210798357942,
          0.2911977938646901,
          -1.2414183972080934,
          0.49891475152883424,
          -1.0314215050799804,
          -0.5530217294478543,
          0.020416771259510542,
          -0.4306340376948631,
          0.15097050669267797,
          0.08022179252787782,
          -1.2923686868624475,
          0.8717566380714424,
          1.647980958513506,
          0.08300122757484048,
          -1.0994377166914255,
          -0.45183190276962065,
          0.5654164919798421,
          1.2973272990573341,
          0.3215044970407632,
          0.6609180790179185,
          -0.5849033260859879,
          0.774057098233275
         ],
         "z": [
          8.823430974256048,
          -72.70413322672272,
          44.107448175713984,
          182.10793343808794,
          10.267165917036317,
          -34.66940732698056,
          40.70841566849343,
          67.0582180342286,
          129.66690631958681,
          26.437737265943007,
          16.368198793151684,
          49.60220802456894,
          34.46592526243382,
          57.60088906141283,
          -129.0192260641158,
          176.52025244594654,
          113.69926583748119,
          27.136906724905984,
          186.19839396074963,
          145.51338691468746,
          43.83325153519513,
          96.41261307573039,
          60.81100500785944,
          -272.8973948996382,
          33.8102119400708,
          137.24195364019448,
          -30.469905690767654,
          97.04881495002,
          -68.57172906561395,
          161.91865474115218,
          148.21435108486855,
          226.5080975933413,
          3.5190605001350823,
          115.23383759106586,
          136.8777248399236,
          -23.675863015465822,
          54.71423391697167,
          -15.538813200709013,
          58.78951440002085,
          33.664394268303354,
          341.7499223181867,
          176.3104147205802,
          125.4708700883786,
          -45.676094567722714,
          -92.06338106963088,
          -307.6566451433416,
          208.5789828942832,
          50.76978458735295,
          75.73506538757134,
          -158.5491846019075,
          0.9674282962630656,
          -68.32869116459888,
          144.95123191928977,
          -164.47378240167063,
          81.82261675693206,
          146.99861589839492,
          -80.35278785042,
          68.24750257520614,
          155.04464811128713,
          61.230643857524775,
          -78.86827969802255,
          -50.84917089134194,
          -48.15093150147162,
          11.078870287840587,
          251.39963418643316,
          -80.99323206034104,
          27.61681588083097,
          37.7903814732295,
          19.431533592589332,
          280.0302216629964,
          40.09800809495721,
          -293.6230527375022,
          71.41781900308794,
          216.20004170675168,
          -5.23367292751753,
          81.48619725405203,
          96.90060554224928,
          -72.85627949810923,
          161.54279721077856,
          109.202815929852,
          -135.32197882166162,
          -38.26857085437686,
          -58.642224708280544,
          -67.42668870821655,
          32.62244900044393,
          -118.65581261985201,
          -12.541053004196968,
          280.2842133168932,
          -69.13886237705027,
          -92.65448982108717,
          27.27291983371914,
          189.22190932775882,
          -98.21978959664406,
          77.1382511231885,
          2.782429626049904,
          74.23391834256928,
          83.16259045883433,
          176.07998848872802,
          -32.33215196168015,
          87.97805973947973
         ]
        }
       ],
       "layout": {
        "legend": {
         "tracegroupgap": 0
        },
        "margin": {
         "t": 60
        },
        "scene": {
         "domain": {
          "x": [
           0,
           1
          ],
          "y": [
           0,
           1
          ]
         },
         "xaxis": {
          "title": {
           "text": "feature1"
          }
         },
         "yaxis": {
          "title": {
           "text": "feature2"
          }
         },
         "zaxis": {
          "title": {
           "text": "target"
          }
         }
        },
        "template": {
         "data": {
          "bar": [
           {
            "error_x": {
             "color": "#2a3f5f"
            },
            "error_y": {
             "color": "#2a3f5f"
            },
            "marker": {
             "line": {
              "color": "#E5ECF6",
              "width": 0.5
             },
             "pattern": {
              "fillmode": "overlay",
              "size": 10,
              "solidity": 0.2
             }
            },
            "type": "bar"
           }
          ],
          "barpolar": [
           {
            "marker": {
             "line": {
              "color": "#E5ECF6",
              "width": 0.5
             },
             "pattern": {
              "fillmode": "overlay",
              "size": 10,
              "solidity": 0.2
             }
            },
            "type": "barpolar"
           }
          ],
          "carpet": [
           {
            "aaxis": {
             "endlinecolor": "#2a3f5f",
             "gridcolor": "white",
             "linecolor": "white",
             "minorgridcolor": "white",
             "startlinecolor": "#2a3f5f"
            },
            "baxis": {
             "endlinecolor": "#2a3f5f",
             "gridcolor": "white",
             "linecolor": "white",
             "minorgridcolor": "white",
             "startlinecolor": "#2a3f5f"
            },
            "type": "carpet"
           }
          ],
          "choropleth": [
           {
            "colorbar": {
             "outlinewidth": 0,
             "ticks": ""
            },
            "type": "choropleth"
           }
          ],
          "contour": [
           {
            "colorbar": {
             "outlinewidth": 0,
             "ticks": ""
            },
            "colorscale": [
             [
              0,
              "#0d0887"
             ],
             [
              0.1111111111111111,
              "#46039f"
             ],
             [
              0.2222222222222222,
              "#7201a8"
             ],
             [
              0.3333333333333333,
              "#9c179e"
             ],
             [
              0.4444444444444444,
              "#bd3786"
             ],
             [
              0.5555555555555556,
              "#d8576b"
             ],
             [
              0.6666666666666666,
              "#ed7953"
             ],
             [
              0.7777777777777778,
              "#fb9f3a"
             ],
             [
              0.8888888888888888,
              "#fdca26"
             ],
             [
              1,
              "#f0f921"
             ]
            ],
            "type": "contour"
           }
          ],
          "contourcarpet": [
           {
            "colorbar": {
             "outlinewidth": 0,
             "ticks": ""
            },
            "type": "contourcarpet"
           }
          ],
          "heatmap": [
           {
            "colorbar": {
             "outlinewidth": 0,
             "ticks": ""
            },
            "colorscale": [
             [
              0,
              "#0d0887"
             ],
             [
              0.1111111111111111,
              "#46039f"
             ],
             [
              0.2222222222222222,
              "#7201a8"
             ],
             [
              0.3333333333333333,
              "#9c179e"
             ],
             [
              0.4444444444444444,
              "#bd3786"
             ],
             [
              0.5555555555555556,
              "#d8576b"
             ],
             [
              0.6666666666666666,
              "#ed7953"
             ],
             [
              0.7777777777777778,
              "#fb9f3a"
             ],
             [
              0.8888888888888888,
              "#fdca26"
             ],
             [
              1,
              "#f0f921"
             ]
            ],
            "type": "heatmap"
           }
          ],
          "heatmapgl": [
           {
            "colorbar": {
             "outlinewidth": 0,
             "ticks": ""
            },
            "colorscale": [
             [
              0,
              "#0d0887"
             ],
             [
              0.1111111111111111,
              "#46039f"
             ],
             [
              0.2222222222222222,
              "#7201a8"
             ],
             [
              0.3333333333333333,
              "#9c179e"
             ],
             [
              0.4444444444444444,
              "#bd3786"
             ],
             [
              0.5555555555555556,
              "#d8576b"
             ],
             [
              0.6666666666666666,
              "#ed7953"
             ],
             [
              0.7777777777777778,
              "#fb9f3a"
             ],
             [
              0.8888888888888888,
              "#fdca26"
             ],
             [
              1,
              "#f0f921"
             ]
            ],
            "type": "heatmapgl"
           }
          ],
          "histogram": [
           {
            "marker": {
             "pattern": {
              "fillmode": "overlay",
              "size": 10,
              "solidity": 0.2
             }
            },
            "type": "histogram"
           }
          ],
          "histogram2d": [
           {
            "colorbar": {
             "outlinewidth": 0,
             "ticks": ""
            },
            "colorscale": [
             [
              0,
              "#0d0887"
             ],
             [
              0.1111111111111111,
              "#46039f"
             ],
             [
              0.2222222222222222,
              "#7201a8"
             ],
             [
              0.3333333333333333,
              "#9c179e"
             ],
             [
              0.4444444444444444,
              "#bd3786"
             ],
             [
              0.5555555555555556,
              "#d8576b"
             ],
             [
              0.6666666666666666,
              "#ed7953"
             ],
             [
              0.7777777777777778,
              "#fb9f3a"
             ],
             [
              0.8888888888888888,
              "#fdca26"
             ],
             [
              1,
              "#f0f921"
             ]
            ],
            "type": "histogram2d"
           }
          ],
          "histogram2dcontour": [
           {
            "colorbar": {
             "outlinewidth": 0,
             "ticks": ""
            },
            "colorscale": [
             [
              0,
              "#0d0887"
             ],
             [
              0.1111111111111111,
              "#46039f"
             ],
             [
              0.2222222222222222,
              "#7201a8"
             ],
             [
              0.3333333333333333,
              "#9c179e"
             ],
             [
              0.4444444444444444,
              "#bd3786"
             ],
             [
              0.5555555555555556,
              "#d8576b"
             ],
             [
              0.6666666666666666,
              "#ed7953"
             ],
             [
              0.7777777777777778,
              "#fb9f3a"
             ],
             [
              0.8888888888888888,
              "#fdca26"
             ],
             [
              1,
              "#f0f921"
             ]
            ],
            "type": "histogram2dcontour"
           }
          ],
          "mesh3d": [
           {
            "colorbar": {
             "outlinewidth": 0,
             "ticks": ""
            },
            "type": "mesh3d"
           }
          ],
          "parcoords": [
           {
            "line": {
             "colorbar": {
              "outlinewidth": 0,
              "ticks": ""
             }
            },
            "type": "parcoords"
           }
          ],
          "pie": [
           {
            "automargin": true,
            "type": "pie"
           }
          ],
          "scatter": [
           {
            "fillpattern": {
             "fillmode": "overlay",
             "size": 10,
             "solidity": 0.2
            },
            "type": "scatter"
           }
          ],
          "scatter3d": [
           {
            "line": {
             "colorbar": {
              "outlinewidth": 0,
              "ticks": ""
             }
            },
            "marker": {
             "colorbar": {
              "outlinewidth": 0,
              "ticks": ""
             }
            },
            "type": "scatter3d"
           }
          ],
          "scattercarpet": [
           {
            "marker": {
             "colorbar": {
              "outlinewidth": 0,
              "ticks": ""
             }
            },
            "type": "scattercarpet"
           }
          ],
          "scattergeo": [
           {
            "marker": {
             "colorbar": {
              "outlinewidth": 0,
              "ticks": ""
             }
            },
            "type": "scattergeo"
           }
          ],
          "scattergl": [
           {
            "marker": {
             "colorbar": {
              "outlinewidth": 0,
              "ticks": ""
             }
            },
            "type": "scattergl"
           }
          ],
          "scattermapbox": [
           {
            "marker": {
             "colorbar": {
              "outlinewidth": 0,
              "ticks": ""
             }
            },
            "type": "scattermapbox"
           }
          ],
          "scatterpolar": [
           {
            "marker": {
             "colorbar": {
              "outlinewidth": 0,
              "ticks": ""
             }
            },
            "type": "scatterpolar"
           }
          ],
          "scatterpolargl": [
           {
            "marker": {
             "colorbar": {
              "outlinewidth": 0,
              "ticks": ""
             }
            },
            "type": "scatterpolargl"
           }
          ],
          "scatterternary": [
           {
            "marker": {
             "colorbar": {
              "outlinewidth": 0,
              "ticks": ""
             }
            },
            "type": "scatterternary"
           }
          ],
          "surface": [
           {
            "colorbar": {
             "outlinewidth": 0,
             "ticks": ""
            },
            "colorscale": [
             [
              0,
              "#0d0887"
             ],
             [
              0.1111111111111111,
              "#46039f"
             ],
             [
              0.2222222222222222,
              "#7201a8"
             ],
             [
              0.3333333333333333,
              "#9c179e"
             ],
             [
              0.4444444444444444,
              "#bd3786"
             ],
             [
              0.5555555555555556,
              "#d8576b"
             ],
             [
              0.6666666666666666,
              "#ed7953"
             ],
             [
              0.7777777777777778,
              "#fb9f3a"
             ],
             [
              0.8888888888888888,
              "#fdca26"
             ],
             [
              1,
              "#f0f921"
             ]
            ],
            "type": "surface"
           }
          ],
          "table": [
           {
            "cells": {
             "fill": {
              "color": "#EBF0F8"
             },
             "line": {
              "color": "white"
             }
            },
            "header": {
             "fill": {
              "color": "#C8D4E3"
             },
             "line": {
              "color": "white"
             }
            },
            "type": "table"
           }
          ]
         },
         "layout": {
          "annotationdefaults": {
           "arrowcolor": "#2a3f5f",
           "arrowhead": 0,
           "arrowwidth": 1
          },
          "autotypenumbers": "strict",
          "coloraxis": {
           "colorbar": {
            "outlinewidth": 0,
            "ticks": ""
           }
          },
          "colorscale": {
           "diverging": [
            [
             0,
             "#8e0152"
            ],
            [
             0.1,
             "#c51b7d"
            ],
            [
             0.2,
             "#de77ae"
            ],
            [
             0.3,
             "#f1b6da"
            ],
            [
             0.4,
             "#fde0ef"
            ],
            [
             0.5,
             "#f7f7f7"
            ],
            [
             0.6,
             "#e6f5d0"
            ],
            [
             0.7,
             "#b8e186"
            ],
            [
             0.8,
             "#7fbc41"
            ],
            [
             0.9,
             "#4d9221"
            ],
            [
             1,
             "#276419"
            ]
           ],
           "sequential": [
            [
             0,
             "#0d0887"
            ],
            [
             0.1111111111111111,
             "#46039f"
            ],
            [
             0.2222222222222222,
             "#7201a8"
            ],
            [
             0.3333333333333333,
             "#9c179e"
            ],
            [
             0.4444444444444444,
             "#bd3786"
            ],
            [
             0.5555555555555556,
             "#d8576b"
            ],
            [
             0.6666666666666666,
             "#ed7953"
            ],
            [
             0.7777777777777778,
             "#fb9f3a"
            ],
            [
             0.8888888888888888,
             "#fdca26"
            ],
            [
             1,
             "#f0f921"
            ]
           ],
           "sequentialminus": [
            [
             0,
             "#0d0887"
            ],
            [
             0.1111111111111111,
             "#46039f"
            ],
            [
             0.2222222222222222,
             "#7201a8"
            ],
            [
             0.3333333333333333,
             "#9c179e"
            ],
            [
             0.4444444444444444,
             "#bd3786"
            ],
            [
             0.5555555555555556,
             "#d8576b"
            ],
            [
             0.6666666666666666,
             "#ed7953"
            ],
            [
             0.7777777777777778,
             "#fb9f3a"
            ],
            [
             0.8888888888888888,
             "#fdca26"
            ],
            [
             1,
             "#f0f921"
            ]
           ]
          },
          "colorway": [
           "#636efa",
           "#EF553B",
           "#00cc96",
           "#ab63fa",
           "#FFA15A",
           "#19d3f3",
           "#FF6692",
           "#B6E880",
           "#FF97FF",
           "#FECB52"
          ],
          "font": {
           "color": "#2a3f5f"
          },
          "geo": {
           "bgcolor": "white",
           "lakecolor": "white",
           "landcolor": "#E5ECF6",
           "showlakes": true,
           "showland": true,
           "subunitcolor": "white"
          },
          "hoverlabel": {
           "align": "left"
          },
          "hovermode": "closest",
          "mapbox": {
           "style": "light"
          },
          "paper_bgcolor": "white",
          "plot_bgcolor": "#E5ECF6",
          "polar": {
           "angularaxis": {
            "gridcolor": "white",
            "linecolor": "white",
            "ticks": ""
           },
           "bgcolor": "#E5ECF6",
           "radialaxis": {
            "gridcolor": "white",
            "linecolor": "white",
            "ticks": ""
           }
          },
          "scene": {
           "xaxis": {
            "backgroundcolor": "#E5ECF6",
            "gridcolor": "white",
            "gridwidth": 2,
            "linecolor": "white",
            "showbackground": true,
            "ticks": "",
            "zerolinecolor": "white"
           },
           "yaxis": {
            "backgroundcolor": "#E5ECF6",
            "gridcolor": "white",
            "gridwidth": 2,
            "linecolor": "white",
            "showbackground": true,
            "ticks": "",
            "zerolinecolor": "white"
           },
           "zaxis": {
            "backgroundcolor": "#E5ECF6",
            "gridcolor": "white",
            "gridwidth": 2,
            "linecolor": "white",
            "showbackground": true,
            "ticks": "",
            "zerolinecolor": "white"
           }
          },
          "shapedefaults": {
           "line": {
            "color": "#2a3f5f"
           }
          },
          "ternary": {
           "aaxis": {
            "gridcolor": "white",
            "linecolor": "white",
            "ticks": ""
           },
           "baxis": {
            "gridcolor": "white",
            "linecolor": "white",
            "ticks": ""
           },
           "bgcolor": "#E5ECF6",
           "caxis": {
            "gridcolor": "white",
            "linecolor": "white",
            "ticks": ""
           }
          },
          "title": {
           "x": 0.05
          },
          "xaxis": {
           "automargin": true,
           "gridcolor": "white",
           "linecolor": "white",
           "ticks": "",
           "title": {
            "standoff": 15
           },
           "zerolinecolor": "white",
           "zerolinewidth": 2
          },
          "yaxis": {
           "automargin": true,
           "gridcolor": "white",
           "linecolor": "white",
           "ticks": "",
           "title": {
            "standoff": 15
           },
           "zerolinecolor": "white",
           "zerolinewidth": 2
          }
         }
        }
       }
      }
     },
     "metadata": {},
     "output_type": "display_data"
    }
   ],
   "source": [
    "fig = px.scatter_3d(df,x='feature1',y='feature2',z='target')\n",
    "fig.show()"
   ]
  },
  {
   "cell_type": "code",
   "execution_count": 6,
   "metadata": {},
   "outputs": [],
   "source": [
    "from sklearn.model_selection import train_test_split\n",
    "\n",
    "X_train,X_test,y_train,y_test = train_test_split(X,y,test_size=2,random_state=2)"
   ]
  },
  {
   "cell_type": "code",
   "execution_count": 7,
   "metadata": {},
   "outputs": [],
   "source": [
    "from sklearn.linear_model import LinearRegression"
   ]
  },
  {
   "cell_type": "code",
   "execution_count": 8,
   "metadata": {},
   "outputs": [],
   "source": [
    "lr = LinearRegression()"
   ]
  },
  {
   "cell_type": "code",
   "execution_count": 9,
   "metadata": {},
   "outputs": [
    {
     "data": {
      "text/html": [
       "<style>#sk-container-id-1 {color: black;background-color: white;}#sk-container-id-1 pre{padding: 0;}#sk-container-id-1 div.sk-toggleable {background-color: white;}#sk-container-id-1 label.sk-toggleable__label {cursor: pointer;display: block;width: 100%;margin-bottom: 0;padding: 0.3em;box-sizing: border-box;text-align: center;}#sk-container-id-1 label.sk-toggleable__label-arrow:before {content: \"▸\";float: left;margin-right: 0.25em;color: #696969;}#sk-container-id-1 label.sk-toggleable__label-arrow:hover:before {color: black;}#sk-container-id-1 div.sk-estimator:hover label.sk-toggleable__label-arrow:before {color: black;}#sk-container-id-1 div.sk-toggleable__content {max-height: 0;max-width: 0;overflow: hidden;text-align: left;background-color: #f0f8ff;}#sk-container-id-1 div.sk-toggleable__content pre {margin: 0.2em;color: black;border-radius: 0.25em;background-color: #f0f8ff;}#sk-container-id-1 input.sk-toggleable__control:checked~div.sk-toggleable__content {max-height: 200px;max-width: 100%;overflow: auto;}#sk-container-id-1 input.sk-toggleable__control:checked~label.sk-toggleable__label-arrow:before {content: \"▾\";}#sk-container-id-1 div.sk-estimator input.sk-toggleable__control:checked~label.sk-toggleable__label {background-color: #d4ebff;}#sk-container-id-1 div.sk-label input.sk-toggleable__control:checked~label.sk-toggleable__label {background-color: #d4ebff;}#sk-container-id-1 input.sk-hidden--visually {border: 0;clip: rect(1px 1px 1px 1px);clip: rect(1px, 1px, 1px, 1px);height: 1px;margin: -1px;overflow: hidden;padding: 0;position: absolute;width: 1px;}#sk-container-id-1 div.sk-estimator {font-family: monospace;background-color: #f0f8ff;border: 1px dotted black;border-radius: 0.25em;box-sizing: border-box;margin-bottom: 0.5em;}#sk-container-id-1 div.sk-estimator:hover {background-color: #d4ebff;}#sk-container-id-1 div.sk-parallel-item::after {content: \"\";width: 100%;border-bottom: 1px solid gray;flex-grow: 1;}#sk-container-id-1 div.sk-label:hover label.sk-toggleable__label {background-color: #d4ebff;}#sk-container-id-1 div.sk-serial::before {content: \"\";position: absolute;border-left: 1px solid gray;box-sizing: border-box;top: 0;bottom: 0;left: 50%;z-index: 0;}#sk-container-id-1 div.sk-serial {display: flex;flex-direction: column;align-items: center;background-color: white;padding-right: 0.2em;padding-left: 0.2em;position: relative;}#sk-container-id-1 div.sk-item {position: relative;z-index: 1;}#sk-container-id-1 div.sk-parallel {display: flex;align-items: stretch;justify-content: center;background-color: white;position: relative;}#sk-container-id-1 div.sk-item::before, #sk-container-id-1 div.sk-parallel-item::before {content: \"\";position: absolute;border-left: 1px solid gray;box-sizing: border-box;top: 0;bottom: 0;left: 50%;z-index: -1;}#sk-container-id-1 div.sk-parallel-item {display: flex;flex-direction: column;z-index: 1;position: relative;background-color: white;}#sk-container-id-1 div.sk-parallel-item:first-child::after {align-self: flex-end;width: 50%;}#sk-container-id-1 div.sk-parallel-item:last-child::after {align-self: flex-start;width: 50%;}#sk-container-id-1 div.sk-parallel-item:only-child::after {width: 0;}#sk-container-id-1 div.sk-dashed-wrapped {border: 1px dashed gray;margin: 0 0.4em 0.5em 0.4em;box-sizing: border-box;padding-bottom: 0.4em;background-color: white;}#sk-container-id-1 div.sk-label label {font-family: monospace;font-weight: bold;display: inline-block;line-height: 1.2em;}#sk-container-id-1 div.sk-label-container {text-align: center;}#sk-container-id-1 div.sk-container {/* jupyter's `normalize.less` sets `[hidden] { display: none; }` but bootstrap.min.css set `[hidden] { display: none !important; }` so we also need the `!important` here to be able to override the default hidden behavior on the sphinx rendered scikit-learn.org. See: https://github.com/scikit-learn/scikit-learn/issues/21755 */display: inline-block !important;position: relative;}#sk-container-id-1 div.sk-text-repr-fallback {display: none;}</style><div id=\"sk-container-id-1\" class=\"sk-top-container\"><div class=\"sk-text-repr-fallback\"><pre>LinearRegression()</pre><b>In a Jupyter environment, please rerun this cell to show the HTML representation or trust the notebook. <br />On GitHub, the HTML representation is unable to render, please try loading this page with nbviewer.org.</b></div><div class=\"sk-container\" hidden><div class=\"sk-item\"><div class=\"sk-estimator sk-toggleable\"><input class=\"sk-toggleable__control sk-hidden--visually\" id=\"sk-estimator-id-1\" type=\"checkbox\" checked><label for=\"sk-estimator-id-1\" class=\"sk-toggleable__label sk-toggleable__label-arrow\">LinearRegression</label><div class=\"sk-toggleable__content\"><pre>LinearRegression()</pre></div></div></div></div></div>"
      ],
      "text/plain": [
       "LinearRegression()"
      ]
     },
     "execution_count": 9,
     "metadata": {},
     "output_type": "execute_result"
    }
   ],
   "source": [
    "lr.fit(X_train,y_train)"
   ]
  },
  {
   "cell_type": "code",
   "execution_count": 10,
   "metadata": {},
   "outputs": [],
   "source": [
    "y_pred = lr.predict(X_test)"
   ]
  },
  {
   "cell_type": "code",
   "execution_count": 11,
   "metadata": {},
   "outputs": [
    {
     "data": {
      "text/plain": [
       "0.5906557883312363"
      ]
     },
     "execution_count": 11,
     "metadata": {},
     "output_type": "execute_result"
    }
   ],
   "source": [
    "r2_score(y_test,y_pred)"
   ]
  },
  {
   "cell_type": "code",
   "execution_count": 16,
   "metadata": {},
   "outputs": [],
   "source": [
    "\n",
    "x = np.linspace(-5, 5, 10)\n",
    "y = np.linspace(-5, 5, 10)\n",
    "xGrid, yGrid = np.meshgrid(y, x)\n",
    "\n",
    "final = np.vstack((xGrid.ravel().reshape(1,100),yGrid.ravel().reshape(1,100))).T\n",
    "\n",
    "z_final = lr.predict(final).reshape(10,10)\n",
    "\n",
    "z = z_final\n",
    "\n"
   ]
  },
  {
   "cell_type": "code",
   "execution_count": 17,
   "metadata": {},
   "outputs": [
    {
     "data": {
      "application/vnd.plotly.v1+json": {
       "config": {
        "plotlyServerURL": "https://plot.ly"
       },
       "data": [
        {
         "hovertemplate": "feature1=%{x}<br>feature2=%{y}<br>target=%{z}<extra></extra>",
         "legendgroup": "",
         "marker": {
          "color": "#636efa",
          "symbol": "circle"
         },
         "mode": "markers",
         "name": "",
         "scene": "scene",
         "showlegend": false,
         "type": "scatter3d",
         "x": [
          0.23575681782013158,
          0.10066079859331788,
          0.2784484882168828,
          0.9762761632596141,
          0.4020754888911489,
          0.6936553979829241,
          0.2605172769108547,
          0.626688350203435,
          1.1705439001719782,
          -0.001192167467677587,
          0.40777962406417434,
          0.5982975319038257,
          -0.11425302749655838,
          0.7017771337149645,
          -0.6426453516812617,
          1.967417508635984,
          0.4704472096563603,
          -0.1892888591498522,
          1.4238651213357854,
          -0.08549282058759797,
          1.2306567456309747,
          0.32885662491670314,
          0.7877032948088065,
          -1.572958289259153,
          0.2473289033386628,
          0.5410419970625603,
          0.628030461570606,
          1.2607372631807576,
          0.4394612374657056,
          1.169382355162835,
          0.3263198191371847,
          2.964007254374681,
          0.9525092824800633,
          1.4377811019174052,
          1.9488955140918216,
          -0.614569841269144,
          0.344270051827958,
          -0.4018057476765453,
          0.7722448887968482,
          -0.14216216337258042,
          2.0285011405194093,
          0.9132126784148127,
          1.5040397895539261,
          -0.8575652292002625,
          -0.9747114293133725,
          -1.953030670023081,
          1.5898093712029084,
          1.0163981815074468,
          0.40635924225884423,
          -1.0782623177758228,
          0.21496202767643183,
          -1.6852361597532977,
          0.9171377469112293,
          -0.6634553376591352,
          -0.8226699903277683,
          1.8299163539404226,
          -0.10546827890765907,
          0.8156925925268725,
          0.9382763457918494,
          0.77223676243397,
          -0.17030502997299524,
          -0.3248454928600533,
          -0.07479423933096326,
          0.4225474910142565,
          1.7083445273857227,
          -0.2603902461138676,
          0.5992507645010854,
          0.091418080359337,
          -0.11597700852447666,
          2.0072430815232356,
          0.4641065667194763,
          -1.1640079002628356,
          -0.5866842483605705,
          1.7660626627554674,
          -0.07053858638289802,
          0.6906948961592448,
          2.201570941843502,
          -1.3607074991180903,
          1.3884808875850134,
          0.4368484668820269,
          -1.7364905905076131,
          -0.23988528519425972,
          -0.12419418977535517,
          -0.11286954269151933,
          0.38430428718268234,
          0.056910051940029405,
          0.4596806103909287,
          2.7451488963551394,
          -0.45500556175102475,
          -1.0327614656392954,
          -0.9573774228578964,
          2.0553173905811777,
          0.14024250204058936,
          0.8809794570133606,
          -1.0107093136952816,
          0.008903856283353183,
          0.09731668955856114,
          0.26394808642332446,
          0.40959631046951966,
          0.4428323027180698
         ],
         "y": [
          -1.0938596142215957,
          -0.8067760055886114,
          0.7666246726502755,
          1.0470576121508548,
          -0.2774165506277154,
          -1.8782625065675047,
          0.06522909498972165,
          0.8685676422868822,
          0.777589887042555,
          -0.07879275264017371,
          -0.3607542853172412,
          0.19495474292219742,
          0.6442676792527736,
          0.01666995144038773,
          0.36459716671489667,
          -0.12025982749354398,
          0.25026455670751,
          0.9415045261231232,
          -0.33464005531657953,
          0.810932139082431,
          -1.493374128610356,
          1.2603606075871576,
          0.07190449985166242,
          0.6873494905531804,
          0.07816521409386418,
          0.9949497949974535,
          -1.3667069733714854,
          -0.6355613164939459,
          -0.3307427897190213,
          0.49585355004145515,
          0.4831174764793121,
          0.09912453772231632,
          -1.7793907462305567,
          -0.6557931131685905,
          -0.6873976417004047,
          -0.552596332979716,
          0.2519200747018643,
          0.7791710717924736,
          -0.3065960248033723,
          0.7686563506846624,
          0.7238480929682033,
          0.5898161417889091,
          -0.42820023936175095,
          1.2563161315353781,
          0.5058698592817349,
          -1.283922913592376,
          0.8161798086248723,
          -1.084574671678748,
          0.9354711144728849,
          -0.4051820061410758,
          0.2997723271097409,
          0.2173135302713859,
          0.4685201087515089,
          -0.493755773035737,
          3.1029546532133527,
          0.9939997978811047,
          0.46344590657980117,
          0.3461622005767134,
          1.2491888708902996,
          -0.649998772067549,
          -1.6208014411990768,
          0.1072678216558014,
          -0.09154106975465665,
          0.8741374263050629,
          0.5547003184592828,
          -0.8593685773155189,
          0.28291208064826373,
          1.032423947415847,
          1.2936358861494222,
          2.2178833453193505,
          -0.9312842989031924,
          -2.696509472028075,
          1.0373781672553986,
          1.6597765779709857,
          -0.11501785725266418,
          0.04378830362611498,
          -0.3606487432063177,
          0.49976297265120884,
          -0.06450210798357942,
          0.2911977938646901,
          -1.2414183972080934,
          0.49891475152883424,
          -1.0314215050799804,
          -0.5530217294478543,
          0.020416771259510542,
          -0.4306340376948631,
          0.15097050669267797,
          0.08022179252787782,
          -1.2923686868624475,
          0.8717566380714424,
          1.647980958513506,
          0.08300122757484048,
          -1.0994377166914255,
          -0.45183190276962065,
          0.5654164919798421,
          1.2973272990573341,
          0.3215044970407632,
          0.6609180790179185,
          -0.5849033260859879,
          0.774057098233275
         ],
         "z": [
          8.823430974256048,
          -72.70413322672272,
          44.107448175713984,
          182.10793343808794,
          10.267165917036317,
          -34.66940732698056,
          40.70841566849343,
          67.0582180342286,
          129.66690631958681,
          26.437737265943007,
          16.368198793151684,
          49.60220802456894,
          34.46592526243382,
          57.60088906141283,
          -129.0192260641158,
          176.52025244594654,
          113.69926583748119,
          27.136906724905984,
          186.19839396074963,
          145.51338691468746,
          43.83325153519513,
          96.41261307573039,
          60.81100500785944,
          -272.8973948996382,
          33.8102119400708,
          137.24195364019448,
          -30.469905690767654,
          97.04881495002,
          -68.57172906561395,
          161.91865474115218,
          148.21435108486855,
          226.5080975933413,
          3.5190605001350823,
          115.23383759106586,
          136.8777248399236,
          -23.675863015465822,
          54.71423391697167,
          -15.538813200709013,
          58.78951440002085,
          33.664394268303354,
          341.7499223181867,
          176.3104147205802,
          125.4708700883786,
          -45.676094567722714,
          -92.06338106963088,
          -307.6566451433416,
          208.5789828942832,
          50.76978458735295,
          75.73506538757134,
          -158.5491846019075,
          0.9674282962630656,
          -68.32869116459888,
          144.95123191928977,
          -164.47378240167063,
          81.82261675693206,
          146.99861589839492,
          -80.35278785042,
          68.24750257520614,
          155.04464811128713,
          61.230643857524775,
          -78.86827969802255,
          -50.84917089134194,
          -48.15093150147162,
          11.078870287840587,
          251.39963418643316,
          -80.99323206034104,
          27.61681588083097,
          37.7903814732295,
          19.431533592589332,
          280.0302216629964,
          40.09800809495721,
          -293.6230527375022,
          71.41781900308794,
          216.20004170675168,
          -5.23367292751753,
          81.48619725405203,
          96.90060554224928,
          -72.85627949810923,
          161.54279721077856,
          109.202815929852,
          -135.32197882166162,
          -38.26857085437686,
          -58.642224708280544,
          -67.42668870821655,
          32.62244900044393,
          -118.65581261985201,
          -12.541053004196968,
          280.2842133168932,
          -69.13886237705027,
          -92.65448982108717,
          27.27291983371914,
          189.22190932775882,
          -98.21978959664406,
          77.1382511231885,
          2.782429626049904,
          74.23391834256928,
          83.16259045883433,
          176.07998848872802,
          -32.33215196168015,
          87.97805973947973
         ]
        },
        {
         "type": "surface",
         "x": [
          -5,
          -3.888888888888889,
          -2.7777777777777777,
          -1.6666666666666665,
          -0.5555555555555554,
          0.5555555555555554,
          1.666666666666667,
          2.7777777777777786,
          3.8888888888888893,
          5
         ],
         "y": [
          -5,
          -3.888888888888889,
          -2.7777777777777777,
          -1.6666666666666665,
          -0.5555555555555554,
          0.5555555555555554,
          1.666666666666667,
          2.7777777777777786,
          3.8888888888888893,
          5
         ],
         "z": [
          [
           -748.204875847687,
           -640.9127814885151,
           -533.6206871293431,
           -426.3285927701712,
           -319.03649841099923,
           -211.74440405182736,
           -104.45230969265533,
           2.8397846665166213,
           110.13187902568855,
           217.4239733848604
          ],
          [
           -689.916037584892,
           -582.6239432257202,
           -475.3318488665482,
           -368.0397545073763,
           -260.7476601482043,
           -153.45556578903245,
           -46.16347142986042,
           61.12862292931153,
           168.42071728848344,
           275.7128116476553
          ],
          [
           -631.6271993220972,
           -524.3351049629252,
           -417.0430106037533,
           -309.7509162445814,
           -202.4588218854094,
           -95.16672752623751,
           12.125366832934489,
           119.41746119210644,
           226.70955555127836,
           334.0016499104502
          ],
          [
           -573.3383610593023,
           -466.04626670013033,
           -358.7541723409584,
           -251.46207798178648,
           -144.1699836226145,
           -36.87788926344261,
           70.41420509572939,
           177.70629945490134,
           284.99839381407327,
           392.29048817324514
          ],
          [
           -515.0495227965074,
           -407.7574284373355,
           -300.46533407816355,
           -193.17323971899157,
           -85.88114535981963,
           21.41094899935228,
           128.70304335852427,
           235.99513771769625,
           343.2872320768681,
           450.57932643604
          ],
          [
           -456.7606845337125,
           -349.46859017454057,
           -242.17649581536864,
           -134.8844014561967,
           -27.59230709702475,
           79.69978726214715,
           186.99188162131912,
           294.2839759804911,
           401.57607033966303,
           508.8681646988349
          ],
          [
           -398.4718462709176,
           -291.17975191174565,
           -183.88765755257373,
           -76.59556319340177,
           30.696531165770168,
           137.98862552494205,
           245.28071988411403,
           352.572814243286,
           459.86490860245794,
           567.1570029616298
          ],
          [
           -340.18300800812267,
           -232.89091364895074,
           -125.5988192897788,
           -18.306724930606848,
           88.9853694285651,
           196.27746378773696,
           303.569558146909,
           410.86165250608093,
           518.1537468652529,
           625.4458412244247
          ],
          [
           -281.8941697453278,
           -174.6020753861559,
           -67.30998102698395,
           39.98211333218801,
           147.27420769135995,
           254.56630205053182,
           361.8583964097038,
           469.1504907688758,
           576.4425851280477,
           683.7346794872195
          ],
          [
           -223.6053314825329,
           -116.31323712336096,
           -9.021142764189037,
           98.27095159498292,
           205.56304595415486,
           312.85514031332673,
           420.1472346724987,
           527.4393290316707,
           634.7314233908427,
           742.0235177500145
          ]
         ]
        }
       ],
       "layout": {
        "legend": {
         "tracegroupgap": 0
        },
        "margin": {
         "t": 60
        },
        "scene": {
         "domain": {
          "x": [
           0,
           1
          ],
          "y": [
           0,
           1
          ]
         },
         "xaxis": {
          "title": {
           "text": "feature1"
          }
         },
         "yaxis": {
          "title": {
           "text": "feature2"
          }
         },
         "zaxis": {
          "title": {
           "text": "target"
          }
         }
        },
        "template": {
         "data": {
          "bar": [
           {
            "error_x": {
             "color": "#2a3f5f"
            },
            "error_y": {
             "color": "#2a3f5f"
            },
            "marker": {
             "line": {
              "color": "#E5ECF6",
              "width": 0.5
             },
             "pattern": {
              "fillmode": "overlay",
              "size": 10,
              "solidity": 0.2
             }
            },
            "type": "bar"
           }
          ],
          "barpolar": [
           {
            "marker": {
             "line": {
              "color": "#E5ECF6",
              "width": 0.5
             },
             "pattern": {
              "fillmode": "overlay",
              "size": 10,
              "solidity": 0.2
             }
            },
            "type": "barpolar"
           }
          ],
          "carpet": [
           {
            "aaxis": {
             "endlinecolor": "#2a3f5f",
             "gridcolor": "white",
             "linecolor": "white",
             "minorgridcolor": "white",
             "startlinecolor": "#2a3f5f"
            },
            "baxis": {
             "endlinecolor": "#2a3f5f",
             "gridcolor": "white",
             "linecolor": "white",
             "minorgridcolor": "white",
             "startlinecolor": "#2a3f5f"
            },
            "type": "carpet"
           }
          ],
          "choropleth": [
           {
            "colorbar": {
             "outlinewidth": 0,
             "ticks": ""
            },
            "type": "choropleth"
           }
          ],
          "contour": [
           {
            "colorbar": {
             "outlinewidth": 0,
             "ticks": ""
            },
            "colorscale": [
             [
              0,
              "#0d0887"
             ],
             [
              0.1111111111111111,
              "#46039f"
             ],
             [
              0.2222222222222222,
              "#7201a8"
             ],
             [
              0.3333333333333333,
              "#9c179e"
             ],
             [
              0.4444444444444444,
              "#bd3786"
             ],
             [
              0.5555555555555556,
              "#d8576b"
             ],
             [
              0.6666666666666666,
              "#ed7953"
             ],
             [
              0.7777777777777778,
              "#fb9f3a"
             ],
             [
              0.8888888888888888,
              "#fdca26"
             ],
             [
              1,
              "#f0f921"
             ]
            ],
            "type": "contour"
           }
          ],
          "contourcarpet": [
           {
            "colorbar": {
             "outlinewidth": 0,
             "ticks": ""
            },
            "type": "contourcarpet"
           }
          ],
          "heatmap": [
           {
            "colorbar": {
             "outlinewidth": 0,
             "ticks": ""
            },
            "colorscale": [
             [
              0,
              "#0d0887"
             ],
             [
              0.1111111111111111,
              "#46039f"
             ],
             [
              0.2222222222222222,
              "#7201a8"
             ],
             [
              0.3333333333333333,
              "#9c179e"
             ],
             [
              0.4444444444444444,
              "#bd3786"
             ],
             [
              0.5555555555555556,
              "#d8576b"
             ],
             [
              0.6666666666666666,
              "#ed7953"
             ],
             [
              0.7777777777777778,
              "#fb9f3a"
             ],
             [
              0.8888888888888888,
              "#fdca26"
             ],
             [
              1,
              "#f0f921"
             ]
            ],
            "type": "heatmap"
           }
          ],
          "heatmapgl": [
           {
            "colorbar": {
             "outlinewidth": 0,
             "ticks": ""
            },
            "colorscale": [
             [
              0,
              "#0d0887"
             ],
             [
              0.1111111111111111,
              "#46039f"
             ],
             [
              0.2222222222222222,
              "#7201a8"
             ],
             [
              0.3333333333333333,
              "#9c179e"
             ],
             [
              0.4444444444444444,
              "#bd3786"
             ],
             [
              0.5555555555555556,
              "#d8576b"
             ],
             [
              0.6666666666666666,
              "#ed7953"
             ],
             [
              0.7777777777777778,
              "#fb9f3a"
             ],
             [
              0.8888888888888888,
              "#fdca26"
             ],
             [
              1,
              "#f0f921"
             ]
            ],
            "type": "heatmapgl"
           }
          ],
          "histogram": [
           {
            "marker": {
             "pattern": {
              "fillmode": "overlay",
              "size": 10,
              "solidity": 0.2
             }
            },
            "type": "histogram"
           }
          ],
          "histogram2d": [
           {
            "colorbar": {
             "outlinewidth": 0,
             "ticks": ""
            },
            "colorscale": [
             [
              0,
              "#0d0887"
             ],
             [
              0.1111111111111111,
              "#46039f"
             ],
             [
              0.2222222222222222,
              "#7201a8"
             ],
             [
              0.3333333333333333,
              "#9c179e"
             ],
             [
              0.4444444444444444,
              "#bd3786"
             ],
             [
              0.5555555555555556,
              "#d8576b"
             ],
             [
              0.6666666666666666,
              "#ed7953"
             ],
             [
              0.7777777777777778,
              "#fb9f3a"
             ],
             [
              0.8888888888888888,
              "#fdca26"
             ],
             [
              1,
              "#f0f921"
             ]
            ],
            "type": "histogram2d"
           }
          ],
          "histogram2dcontour": [
           {
            "colorbar": {
             "outlinewidth": 0,
             "ticks": ""
            },
            "colorscale": [
             [
              0,
              "#0d0887"
             ],
             [
              0.1111111111111111,
              "#46039f"
             ],
             [
              0.2222222222222222,
              "#7201a8"
             ],
             [
              0.3333333333333333,
              "#9c179e"
             ],
             [
              0.4444444444444444,
              "#bd3786"
             ],
             [
              0.5555555555555556,
              "#d8576b"
             ],
             [
              0.6666666666666666,
              "#ed7953"
             ],
             [
              0.7777777777777778,
              "#fb9f3a"
             ],
             [
              0.8888888888888888,
              "#fdca26"
             ],
             [
              1,
              "#f0f921"
             ]
            ],
            "type": "histogram2dcontour"
           }
          ],
          "mesh3d": [
           {
            "colorbar": {
             "outlinewidth": 0,
             "ticks": ""
            },
            "type": "mesh3d"
           }
          ],
          "parcoords": [
           {
            "line": {
             "colorbar": {
              "outlinewidth": 0,
              "ticks": ""
             }
            },
            "type": "parcoords"
           }
          ],
          "pie": [
           {
            "automargin": true,
            "type": "pie"
           }
          ],
          "scatter": [
           {
            "fillpattern": {
             "fillmode": "overlay",
             "size": 10,
             "solidity": 0.2
            },
            "type": "scatter"
           }
          ],
          "scatter3d": [
           {
            "line": {
             "colorbar": {
              "outlinewidth": 0,
              "ticks": ""
             }
            },
            "marker": {
             "colorbar": {
              "outlinewidth": 0,
              "ticks": ""
             }
            },
            "type": "scatter3d"
           }
          ],
          "scattercarpet": [
           {
            "marker": {
             "colorbar": {
              "outlinewidth": 0,
              "ticks": ""
             }
            },
            "type": "scattercarpet"
           }
          ],
          "scattergeo": [
           {
            "marker": {
             "colorbar": {
              "outlinewidth": 0,
              "ticks": ""
             }
            },
            "type": "scattergeo"
           }
          ],
          "scattergl": [
           {
            "marker": {
             "colorbar": {
              "outlinewidth": 0,
              "ticks": ""
             }
            },
            "type": "scattergl"
           }
          ],
          "scattermapbox": [
           {
            "marker": {
             "colorbar": {
              "outlinewidth": 0,
              "ticks": ""
             }
            },
            "type": "scattermapbox"
           }
          ],
          "scatterpolar": [
           {
            "marker": {
             "colorbar": {
              "outlinewidth": 0,
              "ticks": ""
             }
            },
            "type": "scatterpolar"
           }
          ],
          "scatterpolargl": [
           {
            "marker": {
             "colorbar": {
              "outlinewidth": 0,
              "ticks": ""
             }
            },
            "type": "scatterpolargl"
           }
          ],
          "scatterternary": [
           {
            "marker": {
             "colorbar": {
              "outlinewidth": 0,
              "ticks": ""
             }
            },
            "type": "scatterternary"
           }
          ],
          "surface": [
           {
            "colorbar": {
             "outlinewidth": 0,
             "ticks": ""
            },
            "colorscale": [
             [
              0,
              "#0d0887"
             ],
             [
              0.1111111111111111,
              "#46039f"
             ],
             [
              0.2222222222222222,
              "#7201a8"
             ],
             [
              0.3333333333333333,
              "#9c179e"
             ],
             [
              0.4444444444444444,
              "#bd3786"
             ],
             [
              0.5555555555555556,
              "#d8576b"
             ],
             [
              0.6666666666666666,
              "#ed7953"
             ],
             [
              0.7777777777777778,
              "#fb9f3a"
             ],
             [
              0.8888888888888888,
              "#fdca26"
             ],
             [
              1,
              "#f0f921"
             ]
            ],
            "type": "surface"
           }
          ],
          "table": [
           {
            "cells": {
             "fill": {
              "color": "#EBF0F8"
             },
             "line": {
              "color": "white"
             }
            },
            "header": {
             "fill": {
              "color": "#C8D4E3"
             },
             "line": {
              "color": "white"
             }
            },
            "type": "table"
           }
          ]
         },
         "layout": {
          "annotationdefaults": {
           "arrowcolor": "#2a3f5f",
           "arrowhead": 0,
           "arrowwidth": 1
          },
          "autotypenumbers": "strict",
          "coloraxis": {
           "colorbar": {
            "outlinewidth": 0,
            "ticks": ""
           }
          },
          "colorscale": {
           "diverging": [
            [
             0,
             "#8e0152"
            ],
            [
             0.1,
             "#c51b7d"
            ],
            [
             0.2,
             "#de77ae"
            ],
            [
             0.3,
             "#f1b6da"
            ],
            [
             0.4,
             "#fde0ef"
            ],
            [
             0.5,
             "#f7f7f7"
            ],
            [
             0.6,
             "#e6f5d0"
            ],
            [
             0.7,
             "#b8e186"
            ],
            [
             0.8,
             "#7fbc41"
            ],
            [
             0.9,
             "#4d9221"
            ],
            [
             1,
             "#276419"
            ]
           ],
           "sequential": [
            [
             0,
             "#0d0887"
            ],
            [
             0.1111111111111111,
             "#46039f"
            ],
            [
             0.2222222222222222,
             "#7201a8"
            ],
            [
             0.3333333333333333,
             "#9c179e"
            ],
            [
             0.4444444444444444,
             "#bd3786"
            ],
            [
             0.5555555555555556,
             "#d8576b"
            ],
            [
             0.6666666666666666,
             "#ed7953"
            ],
            [
             0.7777777777777778,
             "#fb9f3a"
            ],
            [
             0.8888888888888888,
             "#fdca26"
            ],
            [
             1,
             "#f0f921"
            ]
           ],
           "sequentialminus": [
            [
             0,
             "#0d0887"
            ],
            [
             0.1111111111111111,
             "#46039f"
            ],
            [
             0.2222222222222222,
             "#7201a8"
            ],
            [
             0.3333333333333333,
             "#9c179e"
            ],
            [
             0.4444444444444444,
             "#bd3786"
            ],
            [
             0.5555555555555556,
             "#d8576b"
            ],
            [
             0.6666666666666666,
             "#ed7953"
            ],
            [
             0.7777777777777778,
             "#fb9f3a"
            ],
            [
             0.8888888888888888,
             "#fdca26"
            ],
            [
             1,
             "#f0f921"
            ]
           ]
          },
          "colorway": [
           "#636efa",
           "#EF553B",
           "#00cc96",
           "#ab63fa",
           "#FFA15A",
           "#19d3f3",
           "#FF6692",
           "#B6E880",
           "#FF97FF",
           "#FECB52"
          ],
          "font": {
           "color": "#2a3f5f"
          },
          "geo": {
           "bgcolor": "white",
           "lakecolor": "white",
           "landcolor": "#E5ECF6",
           "showlakes": true,
           "showland": true,
           "subunitcolor": "white"
          },
          "hoverlabel": {
           "align": "left"
          },
          "hovermode": "closest",
          "mapbox": {
           "style": "light"
          },
          "paper_bgcolor": "white",
          "plot_bgcolor": "#E5ECF6",
          "polar": {
           "angularaxis": {
            "gridcolor": "white",
            "linecolor": "white",
            "ticks": ""
           },
           "bgcolor": "#E5ECF6",
           "radialaxis": {
            "gridcolor": "white",
            "linecolor": "white",
            "ticks": ""
           }
          },
          "scene": {
           "xaxis": {
            "backgroundcolor": "#E5ECF6",
            "gridcolor": "white",
            "gridwidth": 2,
            "linecolor": "white",
            "showbackground": true,
            "ticks": "",
            "zerolinecolor": "white"
           },
           "yaxis": {
            "backgroundcolor": "#E5ECF6",
            "gridcolor": "white",
            "gridwidth": 2,
            "linecolor": "white",
            "showbackground": true,
            "ticks": "",
            "zerolinecolor": "white"
           },
           "zaxis": {
            "backgroundcolor": "#E5ECF6",
            "gridcolor": "white",
            "gridwidth": 2,
            "linecolor": "white",
            "showbackground": true,
            "ticks": "",
            "zerolinecolor": "white"
           }
          },
          "shapedefaults": {
           "line": {
            "color": "#2a3f5f"
           }
          },
          "ternary": {
           "aaxis": {
            "gridcolor": "white",
            "linecolor": "white",
            "ticks": ""
           },
           "baxis": {
            "gridcolor": "white",
            "linecolor": "white",
            "ticks": ""
           },
           "bgcolor": "#E5ECF6",
           "caxis": {
            "gridcolor": "white",
            "linecolor": "white",
            "ticks": ""
           }
          },
          "title": {
           "x": 0.05
          },
          "xaxis": {
           "automargin": true,
           "gridcolor": "white",
           "linecolor": "white",
           "ticks": "",
           "title": {
            "standoff": 15
           },
           "zerolinecolor": "white",
           "zerolinewidth": 2
          },
          "yaxis": {
           "automargin": true,
           "gridcolor": "white",
           "linecolor": "white",
           "ticks": "",
           "title": {
            "standoff": 15
           },
           "zerolinecolor": "white",
           "zerolinewidth": 2
          }
         }
        }
       }
      }
     },
     "metadata": {},
     "output_type": "display_data"
    }
   ],
   "source": [
    "\n",
    "fig = px.scatter_3d(df, x='feature1', y='feature2', z='target')\n",
    "\n",
    "fig.add_trace(go.Surface(x = x, y = y, z =z ))\n",
    "\n",
    "fig.show()"
   ]
  },
  {
   "cell_type": "code",
   "execution_count": 18,
   "metadata": {},
   "outputs": [
    {
     "data": {
      "text/plain": [
       "array([96.56288492, 52.45995444])"
      ]
     },
     "execution_count": 18,
     "metadata": {},
     "output_type": "execute_result"
    }
   ],
   "source": [
    "lr.coef_"
   ]
  },
  {
   "cell_type": "code",
   "execution_count": 19,
   "metadata": {},
   "outputs": [
    {
     "data": {
      "text/plain": [
       "-3.090679048836236"
      ]
     },
     "execution_count": 19,
     "metadata": {},
     "output_type": "execute_result"
    }
   ],
   "source": [
    "lr.intercept_"
   ]
  },
  {
   "cell_type": "code",
   "execution_count": null,
   "metadata": {},
   "outputs": [],
   "source": []
  }
 ],
 "metadata": {
  "kernelspec": {
   "display_name": "base",
   "language": "python",
   "name": "python3"
  },
  "language_info": {
   "codemirror_mode": {
    "name": "ipython",
    "version": 3
   },
   "file_extension": ".py",
   "mimetype": "text/x-python",
   "name": "python",
   "nbconvert_exporter": "python",
   "pygments_lexer": "ipython3",
   "version": "3.11.7"
  }
 },
 "nbformat": 4,
 "nbformat_minor": 2
}

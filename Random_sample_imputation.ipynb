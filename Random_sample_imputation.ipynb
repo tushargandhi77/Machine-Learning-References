{
 "cells": [
  {
   "cell_type": "code",
   "id": "initial_id",
   "metadata": {
    "collapsed": true,
    "ExecuteTime": {
     "end_time": "2024-12-03T04:05:28.407295Z",
     "start_time": "2024-12-03T04:05:28.063155Z"
    }
   },
   "source": [
    "import numpy as np\n",
    "import pandas as pd\n",
    "\n",
    "from sklearn.model_selection import train_test_split\n",
    "\n",
    "import matplotlib.pyplot as plt\n",
    "import seaborn as sns"
   ],
   "outputs": [],
   "execution_count": 1
  },
  {
   "metadata": {
    "ExecuteTime": {
     "end_time": "2024-12-03T04:07:01.304245Z",
     "start_time": "2024-12-03T04:07:01.253078Z"
    }
   },
   "cell_type": "code",
   "source": "df = pd.read_csv('titanic.csv',usecols=['Age','Fare','Survived'])",
   "id": "a0347691fe018607",
   "outputs": [],
   "execution_count": 6
  },
  {
   "metadata": {
    "ExecuteTime": {
     "end_time": "2024-12-03T04:07:02.005617Z",
     "start_time": "2024-12-03T04:07:01.996387Z"
    }
   },
   "cell_type": "code",
   "source": "df.head(4)",
   "id": "dc555eae6068d0ac",
   "outputs": [
    {
     "data": {
      "text/plain": [
       "   Survived   Age     Fare\n",
       "0         0  22.0   7.2500\n",
       "1         1  38.0  71.2833\n",
       "2         1  26.0   7.9250\n",
       "3         1  35.0  53.1000"
      ],
      "text/html": [
       "<div>\n",
       "<style scoped>\n",
       "    .dataframe tbody tr th:only-of-type {\n",
       "        vertical-align: middle;\n",
       "    }\n",
       "\n",
       "    .dataframe tbody tr th {\n",
       "        vertical-align: top;\n",
       "    }\n",
       "\n",
       "    .dataframe thead th {\n",
       "        text-align: right;\n",
       "    }\n",
       "</style>\n",
       "<table border=\"1\" class=\"dataframe\">\n",
       "  <thead>\n",
       "    <tr style=\"text-align: right;\">\n",
       "      <th></th>\n",
       "      <th>Survived</th>\n",
       "      <th>Age</th>\n",
       "      <th>Fare</th>\n",
       "    </tr>\n",
       "  </thead>\n",
       "  <tbody>\n",
       "    <tr>\n",
       "      <th>0</th>\n",
       "      <td>0</td>\n",
       "      <td>22.0</td>\n",
       "      <td>7.2500</td>\n",
       "    </tr>\n",
       "    <tr>\n",
       "      <th>1</th>\n",
       "      <td>1</td>\n",
       "      <td>38.0</td>\n",
       "      <td>71.2833</td>\n",
       "    </tr>\n",
       "    <tr>\n",
       "      <th>2</th>\n",
       "      <td>1</td>\n",
       "      <td>26.0</td>\n",
       "      <td>7.9250</td>\n",
       "    </tr>\n",
       "    <tr>\n",
       "      <th>3</th>\n",
       "      <td>1</td>\n",
       "      <td>35.0</td>\n",
       "      <td>53.1000</td>\n",
       "    </tr>\n",
       "  </tbody>\n",
       "</table>\n",
       "</div>"
      ]
     },
     "execution_count": 7,
     "metadata": {},
     "output_type": "execute_result"
    }
   ],
   "execution_count": 7
  },
  {
   "metadata": {
    "ExecuteTime": {
     "end_time": "2024-12-03T04:07:18.365558Z",
     "start_time": "2024-12-03T04:07:18.359071Z"
    }
   },
   "cell_type": "code",
   "source": "df.isnull().sum()",
   "id": "d55afddcf840c66e",
   "outputs": [
    {
     "data": {
      "text/plain": [
       "Survived      0\n",
       "Age         177\n",
       "Fare          0\n",
       "dtype: int64"
      ]
     },
     "execution_count": 9,
     "metadata": {},
     "output_type": "execute_result"
    }
   ],
   "execution_count": 9
  },
  {
   "metadata": {
    "ExecuteTime": {
     "end_time": "2024-12-03T04:07:35.229107Z",
     "start_time": "2024-12-03T04:07:35.223039Z"
    }
   },
   "cell_type": "code",
   "source": [
    "X = df.drop('Survived',axis=1)\n",
    "y = df['Survived']"
   ],
   "id": "f6ec4a0b441b8963",
   "outputs": [],
   "execution_count": 10
  },
  {
   "metadata": {
    "ExecuteTime": {
     "end_time": "2024-12-03T04:07:55.398215Z",
     "start_time": "2024-12-03T04:07:55.390247Z"
    }
   },
   "cell_type": "code",
   "source": "X_train,X_test,y_train,y_test = train_test_split(X,y,test_size=0.2,random_state=2)",
   "id": "d76ac7d8fb6d93bb",
   "outputs": [],
   "execution_count": 11
  },
  {
   "metadata": {
    "ExecuteTime": {
     "end_time": "2024-12-03T04:08:40.986959Z",
     "start_time": "2024-12-03T04:08:40.980858Z"
    }
   },
   "cell_type": "code",
   "source": [
    "X_train['Age_imputed'] = X_train['Age']\n",
    "X_test['Age_imputed'] = X_test['Age']"
   ],
   "id": "cb81f4cebd9349ba",
   "outputs": [],
   "execution_count": 12
  },
  {
   "metadata": {
    "ExecuteTime": {
     "end_time": "2024-12-03T04:08:55.498047Z",
     "start_time": "2024-12-03T04:08:55.490067Z"
    }
   },
   "cell_type": "code",
   "source": "X_train.tail()",
   "id": "f94ccba9b651c67d",
   "outputs": [
    {
     "data": {
      "text/plain": [
       "      Age      Fare  Age_imputed\n",
       "534  30.0    8.6625         30.0\n",
       "584   NaN    8.7125          NaN\n",
       "493  71.0   49.5042         71.0\n",
       "527   NaN  221.7792          NaN\n",
       "168   NaN   25.9250          NaN"
      ],
      "text/html": [
       "<div>\n",
       "<style scoped>\n",
       "    .dataframe tbody tr th:only-of-type {\n",
       "        vertical-align: middle;\n",
       "    }\n",
       "\n",
       "    .dataframe tbody tr th {\n",
       "        vertical-align: top;\n",
       "    }\n",
       "\n",
       "    .dataframe thead th {\n",
       "        text-align: right;\n",
       "    }\n",
       "</style>\n",
       "<table border=\"1\" class=\"dataframe\">\n",
       "  <thead>\n",
       "    <tr style=\"text-align: right;\">\n",
       "      <th></th>\n",
       "      <th>Age</th>\n",
       "      <th>Fare</th>\n",
       "      <th>Age_imputed</th>\n",
       "    </tr>\n",
       "  </thead>\n",
       "  <tbody>\n",
       "    <tr>\n",
       "      <th>534</th>\n",
       "      <td>30.0</td>\n",
       "      <td>8.6625</td>\n",
       "      <td>30.0</td>\n",
       "    </tr>\n",
       "    <tr>\n",
       "      <th>584</th>\n",
       "      <td>NaN</td>\n",
       "      <td>8.7125</td>\n",
       "      <td>NaN</td>\n",
       "    </tr>\n",
       "    <tr>\n",
       "      <th>493</th>\n",
       "      <td>71.0</td>\n",
       "      <td>49.5042</td>\n",
       "      <td>71.0</td>\n",
       "    </tr>\n",
       "    <tr>\n",
       "      <th>527</th>\n",
       "      <td>NaN</td>\n",
       "      <td>221.7792</td>\n",
       "      <td>NaN</td>\n",
       "    </tr>\n",
       "    <tr>\n",
       "      <th>168</th>\n",
       "      <td>NaN</td>\n",
       "      <td>25.9250</td>\n",
       "      <td>NaN</td>\n",
       "    </tr>\n",
       "  </tbody>\n",
       "</table>\n",
       "</div>"
      ]
     },
     "execution_count": 14,
     "metadata": {},
     "output_type": "execute_result"
    }
   ],
   "execution_count": 14
  },
  {
   "metadata": {
    "ExecuteTime": {
     "end_time": "2024-12-03T04:13:40.169850Z",
     "start_time": "2024-12-03T04:13:39.214589Z"
    }
   },
   "cell_type": "code",
   "source": [
    "X_train['Age_imputed'][X_train['Age_imputed'].isnull()] = X_train['Age'].dropna().sample(X_train['Age'].isnull().sum()).values\n",
    "X_test['Age_imputed'][X_test['Age_imputed'].isnull()] = X_test['Age'].dropna().sample(X_test['Age'].isnull().sum()).values"
   ],
   "id": "4507c6c37be9c7bc",
   "outputs": [
    {
     "name": "stderr",
     "output_type": "stream",
     "text": [
      "C:\\Users\\TUSHAR GANDHI\\AppData\\Local\\Temp\\ipykernel_16396\\517969370.py:1: FutureWarning: ChainedAssignmentError: behaviour will change in pandas 3.0!\n",
      "You are setting values through chained assignment. Currently this works in certain cases, but when using Copy-on-Write (which will become the default behaviour in pandas 3.0) this will never work to update the original DataFrame or Series, because the intermediate object on which we are setting values will behave as a copy.\n",
      "A typical example is when you are setting values in a column of a DataFrame, like:\n",
      "\n",
      "df[\"col\"][row_indexer] = value\n",
      "\n",
      "Use `df.loc[row_indexer, \"col\"] = values` instead, to perform the assignment in a single step and ensure this keeps updating the original `df`.\n",
      "\n",
      "See the caveats in the documentation: https://pandas.pydata.org/pandas-docs/stable/user_guide/indexing.html#returning-a-view-versus-a-copy\n",
      "\n",
      "  X_train['Age_imputed'][X_train['Age_imputed'].isnull()] = X_train['Age'].dropna().sample(X_train['Age'].isnull().sum()).values\n"
     ]
    },
    {
     "ename": "ValueError",
     "evalue": "cannot set using a list-like indexer with a different length than the value",
     "output_type": "error",
     "traceback": [
      "\u001B[1;31m---------------------------------------------------------------------------\u001B[0m",
      "\u001B[1;31mTypeError\u001B[0m                                 Traceback (most recent call last)",
      "File \u001B[1;32m~\\AppData\\Roaming\\Python\\Python311\\site-packages\\pandas\\core\\indexes\\base.py:3805\u001B[0m, in \u001B[0;36mIndex.get_loc\u001B[1;34m(self, key)\u001B[0m\n\u001B[0;32m   3804\u001B[0m \u001B[38;5;28;01mtry\u001B[39;00m:\n\u001B[1;32m-> 3805\u001B[0m     \u001B[38;5;28;01mreturn\u001B[39;00m \u001B[38;5;28;43mself\u001B[39;49m\u001B[38;5;241;43m.\u001B[39;49m\u001B[43m_engine\u001B[49m\u001B[38;5;241;43m.\u001B[39;49m\u001B[43mget_loc\u001B[49m\u001B[43m(\u001B[49m\u001B[43mcasted_key\u001B[49m\u001B[43m)\u001B[49m\n\u001B[0;32m   3806\u001B[0m \u001B[38;5;28;01mexcept\u001B[39;00m \u001B[38;5;167;01mKeyError\u001B[39;00m \u001B[38;5;28;01mas\u001B[39;00m err:\n",
      "File \u001B[1;32mindex.pyx:167\u001B[0m, in \u001B[0;36mpandas._libs.index.IndexEngine.get_loc\u001B[1;34m()\u001B[0m\n",
      "File \u001B[1;32mindex.pyx:173\u001B[0m, in \u001B[0;36mpandas._libs.index.IndexEngine.get_loc\u001B[1;34m()\u001B[0m\n",
      "\u001B[1;31mTypeError\u001B[0m: '30     False\n10     False\n873    False\n182    False\n876    False\n       ...  \n534    False\n584    False\n493    False\n527    False\n168    False\nName: Age_imputed, Length: 712, dtype: bool' is an invalid key",
      "\nDuring handling of the above exception, another exception occurred:\n",
      "\u001B[1;31mInvalidIndexError\u001B[0m                         Traceback (most recent call last)",
      "File \u001B[1;32m~\\AppData\\Roaming\\Python\\Python311\\site-packages\\pandas\\core\\series.py:1298\u001B[0m, in \u001B[0;36mSeries.__setitem__\u001B[1;34m(self, key, value)\u001B[0m\n\u001B[0;32m   1297\u001B[0m \u001B[38;5;28;01mtry\u001B[39;00m:\n\u001B[1;32m-> 1298\u001B[0m     \u001B[38;5;28;43mself\u001B[39;49m\u001B[38;5;241;43m.\u001B[39;49m\u001B[43m_set_with_engine\u001B[49m\u001B[43m(\u001B[49m\u001B[43mkey\u001B[49m\u001B[43m,\u001B[49m\u001B[43m \u001B[49m\u001B[43mvalue\u001B[49m\u001B[43m,\u001B[49m\u001B[43m \u001B[49m\u001B[43mwarn\u001B[49m\u001B[38;5;241;43m=\u001B[39;49m\u001B[43mwarn\u001B[49m\u001B[43m)\u001B[49m\n\u001B[0;32m   1299\u001B[0m \u001B[38;5;28;01mexcept\u001B[39;00m \u001B[38;5;167;01mKeyError\u001B[39;00m:\n\u001B[0;32m   1300\u001B[0m     \u001B[38;5;66;03m# We have a scalar (or for MultiIndex or object-dtype, scalar-like)\u001B[39;00m\n\u001B[0;32m   1301\u001B[0m     \u001B[38;5;66;03m#  key that is not present in self.index.\u001B[39;00m\n",
      "File \u001B[1;32m~\\AppData\\Roaming\\Python\\Python311\\site-packages\\pandas\\core\\series.py:1370\u001B[0m, in \u001B[0;36mSeries._set_with_engine\u001B[1;34m(self, key, value, warn)\u001B[0m\n\u001B[0;32m   1369\u001B[0m \u001B[38;5;28;01mdef\u001B[39;00m \u001B[38;5;21m_set_with_engine\u001B[39m(\u001B[38;5;28mself\u001B[39m, key, value, warn: \u001B[38;5;28mbool\u001B[39m \u001B[38;5;241m=\u001B[39m \u001B[38;5;28;01mTrue\u001B[39;00m) \u001B[38;5;241m-\u001B[39m\u001B[38;5;241m>\u001B[39m \u001B[38;5;28;01mNone\u001B[39;00m:\n\u001B[1;32m-> 1370\u001B[0m     loc \u001B[38;5;241m=\u001B[39m \u001B[38;5;28;43mself\u001B[39;49m\u001B[38;5;241;43m.\u001B[39;49m\u001B[43mindex\u001B[49m\u001B[38;5;241;43m.\u001B[39;49m\u001B[43mget_loc\u001B[49m\u001B[43m(\u001B[49m\u001B[43mkey\u001B[49m\u001B[43m)\u001B[49m\n\u001B[0;32m   1372\u001B[0m     \u001B[38;5;66;03m# this is equivalent to self._values[key] = value\u001B[39;00m\n",
      "File \u001B[1;32m~\\AppData\\Roaming\\Python\\Python311\\site-packages\\pandas\\core\\indexes\\base.py:3817\u001B[0m, in \u001B[0;36mIndex.get_loc\u001B[1;34m(self, key)\u001B[0m\n\u001B[0;32m   3813\u001B[0m \u001B[38;5;28;01mexcept\u001B[39;00m \u001B[38;5;167;01mTypeError\u001B[39;00m:\n\u001B[0;32m   3814\u001B[0m     \u001B[38;5;66;03m# If we have a listlike key, _check_indexing_error will raise\u001B[39;00m\n\u001B[0;32m   3815\u001B[0m     \u001B[38;5;66;03m#  InvalidIndexError. Otherwise we fall through and re-raise\u001B[39;00m\n\u001B[0;32m   3816\u001B[0m     \u001B[38;5;66;03m#  the TypeError.\u001B[39;00m\n\u001B[1;32m-> 3817\u001B[0m     \u001B[38;5;28;43mself\u001B[39;49m\u001B[38;5;241;43m.\u001B[39;49m\u001B[43m_check_indexing_error\u001B[49m\u001B[43m(\u001B[49m\u001B[43mkey\u001B[49m\u001B[43m)\u001B[49m\n\u001B[0;32m   3818\u001B[0m     \u001B[38;5;28;01mraise\u001B[39;00m\n",
      "File \u001B[1;32m~\\AppData\\Roaming\\Python\\Python311\\site-packages\\pandas\\core\\indexes\\base.py:6059\u001B[0m, in \u001B[0;36mIndex._check_indexing_error\u001B[1;34m(self, key)\u001B[0m\n\u001B[0;32m   6056\u001B[0m \u001B[38;5;28;01mif\u001B[39;00m \u001B[38;5;129;01mnot\u001B[39;00m is_scalar(key):\n\u001B[0;32m   6057\u001B[0m     \u001B[38;5;66;03m# if key is not a scalar, directly raise an error (the code below\u001B[39;00m\n\u001B[0;32m   6058\u001B[0m     \u001B[38;5;66;03m# would convert to numpy arrays and raise later any way) - GH29926\u001B[39;00m\n\u001B[1;32m-> 6059\u001B[0m     \u001B[38;5;28;01mraise\u001B[39;00m InvalidIndexError(key)\n",
      "\u001B[1;31mInvalidIndexError\u001B[0m: 30     False\n10     False\n873    False\n182    False\n876    False\n       ...  \n534    False\n584    False\n493    False\n527    False\n168    False\nName: Age_imputed, Length: 712, dtype: bool",
      "\nDuring handling of the above exception, another exception occurred:\n",
      "\u001B[1;31mValueError\u001B[0m                                Traceback (most recent call last)",
      "Cell \u001B[1;32mIn[20], line 1\u001B[0m\n\u001B[1;32m----> 1\u001B[0m \u001B[43mX_train\u001B[49m\u001B[43m[\u001B[49m\u001B[38;5;124;43m'\u001B[39;49m\u001B[38;5;124;43mAge_imputed\u001B[39;49m\u001B[38;5;124;43m'\u001B[39;49m\u001B[43m]\u001B[49m\u001B[43m[\u001B[49m\u001B[43mX_train\u001B[49m\u001B[43m[\u001B[49m\u001B[38;5;124;43m'\u001B[39;49m\u001B[38;5;124;43mAge_imputed\u001B[39;49m\u001B[38;5;124;43m'\u001B[39;49m\u001B[43m]\u001B[49m\u001B[38;5;241;43m.\u001B[39;49m\u001B[43misnull\u001B[49m\u001B[43m(\u001B[49m\u001B[43m)\u001B[49m\u001B[43m]\u001B[49m \u001B[38;5;241m=\u001B[39m X_train[\u001B[38;5;124m'\u001B[39m\u001B[38;5;124mAge\u001B[39m\u001B[38;5;124m'\u001B[39m]\u001B[38;5;241m.\u001B[39mdropna()\u001B[38;5;241m.\u001B[39msample(X_train[\u001B[38;5;124m'\u001B[39m\u001B[38;5;124mAge\u001B[39m\u001B[38;5;124m'\u001B[39m]\u001B[38;5;241m.\u001B[39misnull()\u001B[38;5;241m.\u001B[39msum())\u001B[38;5;241m.\u001B[39mvalues\n\u001B[0;32m      2\u001B[0m X_test[\u001B[38;5;124m'\u001B[39m\u001B[38;5;124mAge_imputed\u001B[39m\u001B[38;5;124m'\u001B[39m][X_test[\u001B[38;5;124m'\u001B[39m\u001B[38;5;124mAge_imputed\u001B[39m\u001B[38;5;124m'\u001B[39m]\u001B[38;5;241m.\u001B[39misnull()] \u001B[38;5;241m=\u001B[39m X_test[\u001B[38;5;124m'\u001B[39m\u001B[38;5;124mAge\u001B[39m\u001B[38;5;124m'\u001B[39m]\u001B[38;5;241m.\u001B[39mdropna()\u001B[38;5;241m.\u001B[39msample(X_test[\u001B[38;5;124m'\u001B[39m\u001B[38;5;124mAge\u001B[39m\u001B[38;5;124m'\u001B[39m]\u001B[38;5;241m.\u001B[39misnull()\u001B[38;5;241m.\u001B[39msum())\u001B[38;5;241m.\u001B[39mvalues\n",
      "File \u001B[1;32m~\\AppData\\Roaming\\Python\\Python311\\site-packages\\pandas\\core\\series.py:1351\u001B[0m, in \u001B[0;36mSeries.__setitem__\u001B[1;34m(self, key, value)\u001B[0m\n\u001B[0;32m   1341\u001B[0m \u001B[38;5;28;01mif\u001B[39;00m (\n\u001B[0;32m   1342\u001B[0m     is_list_like(value)\n\u001B[0;32m   1343\u001B[0m     \u001B[38;5;129;01mand\u001B[39;00m \u001B[38;5;28mlen\u001B[39m(value) \u001B[38;5;241m!=\u001B[39m \u001B[38;5;28mlen\u001B[39m(\u001B[38;5;28mself\u001B[39m)\n\u001B[1;32m   (...)\u001B[0m\n\u001B[0;32m   1348\u001B[0m     \u001B[38;5;66;03m#  _where call below\u001B[39;00m\n\u001B[0;32m   1349\u001B[0m     \u001B[38;5;66;03m# GH#44265\u001B[39;00m\n\u001B[0;32m   1350\u001B[0m     indexer \u001B[38;5;241m=\u001B[39m key\u001B[38;5;241m.\u001B[39mnonzero()[\u001B[38;5;241m0\u001B[39m]\n\u001B[1;32m-> 1351\u001B[0m     \u001B[38;5;28;43mself\u001B[39;49m\u001B[38;5;241;43m.\u001B[39;49m\u001B[43m_set_values\u001B[49m\u001B[43m(\u001B[49m\u001B[43mindexer\u001B[49m\u001B[43m,\u001B[49m\u001B[43m \u001B[49m\u001B[43mvalue\u001B[49m\u001B[43m)\u001B[49m\n\u001B[0;32m   1352\u001B[0m     \u001B[38;5;28;01mreturn\u001B[39;00m\n\u001B[0;32m   1354\u001B[0m \u001B[38;5;66;03m# otherwise with listlike other we interpret series[mask] = other\u001B[39;00m\n\u001B[0;32m   1355\u001B[0m \u001B[38;5;66;03m#  as series[mask] = other[mask]\u001B[39;00m\n",
      "File \u001B[1;32m~\\AppData\\Roaming\\Python\\Python311\\site-packages\\pandas\\core\\series.py:1419\u001B[0m, in \u001B[0;36mSeries._set_values\u001B[1;34m(self, key, value, warn)\u001B[0m\n\u001B[0;32m   1416\u001B[0m \u001B[38;5;28;01mif\u001B[39;00m \u001B[38;5;28misinstance\u001B[39m(key, (Index, Series)):\n\u001B[0;32m   1417\u001B[0m     key \u001B[38;5;241m=\u001B[39m key\u001B[38;5;241m.\u001B[39m_values\n\u001B[1;32m-> 1419\u001B[0m \u001B[38;5;28mself\u001B[39m\u001B[38;5;241m.\u001B[39m_mgr \u001B[38;5;241m=\u001B[39m \u001B[38;5;28;43mself\u001B[39;49m\u001B[38;5;241;43m.\u001B[39;49m\u001B[43m_mgr\u001B[49m\u001B[38;5;241;43m.\u001B[39;49m\u001B[43msetitem\u001B[49m\u001B[43m(\u001B[49m\u001B[43mindexer\u001B[49m\u001B[38;5;241;43m=\u001B[39;49m\u001B[43mkey\u001B[49m\u001B[43m,\u001B[49m\u001B[43m \u001B[49m\u001B[43mvalue\u001B[49m\u001B[38;5;241;43m=\u001B[39;49m\u001B[43mvalue\u001B[49m\u001B[43m,\u001B[49m\u001B[43m \u001B[49m\u001B[43mwarn\u001B[49m\u001B[38;5;241;43m=\u001B[39;49m\u001B[43mwarn\u001B[49m\u001B[43m)\u001B[49m\n\u001B[0;32m   1420\u001B[0m \u001B[38;5;28mself\u001B[39m\u001B[38;5;241m.\u001B[39m_maybe_update_cacher()\n",
      "File \u001B[1;32m~\\AppData\\Roaming\\Python\\Python311\\site-packages\\pandas\\core\\internals\\managers.py:415\u001B[0m, in \u001B[0;36mBaseBlockManager.setitem\u001B[1;34m(self, indexer, value, warn)\u001B[0m\n\u001B[0;32m    411\u001B[0m     \u001B[38;5;66;03m# No need to split if we either set all columns or on a single block\u001B[39;00m\n\u001B[0;32m    412\u001B[0m     \u001B[38;5;66;03m# manager\u001B[39;00m\n\u001B[0;32m    413\u001B[0m     \u001B[38;5;28mself\u001B[39m \u001B[38;5;241m=\u001B[39m \u001B[38;5;28mself\u001B[39m\u001B[38;5;241m.\u001B[39mcopy()\n\u001B[1;32m--> 415\u001B[0m \u001B[38;5;28;01mreturn\u001B[39;00m \u001B[38;5;28;43mself\u001B[39;49m\u001B[38;5;241;43m.\u001B[39;49m\u001B[43mapply\u001B[49m\u001B[43m(\u001B[49m\u001B[38;5;124;43m\"\u001B[39;49m\u001B[38;5;124;43msetitem\u001B[39;49m\u001B[38;5;124;43m\"\u001B[39;49m\u001B[43m,\u001B[49m\u001B[43m \u001B[49m\u001B[43mindexer\u001B[49m\u001B[38;5;241;43m=\u001B[39;49m\u001B[43mindexer\u001B[49m\u001B[43m,\u001B[49m\u001B[43m \u001B[49m\u001B[43mvalue\u001B[49m\u001B[38;5;241;43m=\u001B[39;49m\u001B[43mvalue\u001B[49m\u001B[43m)\u001B[49m\n",
      "File \u001B[1;32m~\\AppData\\Roaming\\Python\\Python311\\site-packages\\pandas\\core\\internals\\managers.py:363\u001B[0m, in \u001B[0;36mBaseBlockManager.apply\u001B[1;34m(self, f, align_keys, **kwargs)\u001B[0m\n\u001B[0;32m    361\u001B[0m         applied \u001B[38;5;241m=\u001B[39m b\u001B[38;5;241m.\u001B[39mapply(f, \u001B[38;5;241m*\u001B[39m\u001B[38;5;241m*\u001B[39mkwargs)\n\u001B[0;32m    362\u001B[0m     \u001B[38;5;28;01melse\u001B[39;00m:\n\u001B[1;32m--> 363\u001B[0m         applied \u001B[38;5;241m=\u001B[39m \u001B[38;5;28;43mgetattr\u001B[39;49m\u001B[43m(\u001B[49m\u001B[43mb\u001B[49m\u001B[43m,\u001B[49m\u001B[43m \u001B[49m\u001B[43mf\u001B[49m\u001B[43m)\u001B[49m\u001B[43m(\u001B[49m\u001B[38;5;241;43m*\u001B[39;49m\u001B[38;5;241;43m*\u001B[39;49m\u001B[43mkwargs\u001B[49m\u001B[43m)\u001B[49m\n\u001B[0;32m    364\u001B[0m     result_blocks \u001B[38;5;241m=\u001B[39m extend_blocks(applied, result_blocks)\n\u001B[0;32m    366\u001B[0m out \u001B[38;5;241m=\u001B[39m \u001B[38;5;28mtype\u001B[39m(\u001B[38;5;28mself\u001B[39m)\u001B[38;5;241m.\u001B[39mfrom_blocks(result_blocks, \u001B[38;5;28mself\u001B[39m\u001B[38;5;241m.\u001B[39maxes)\n",
      "File \u001B[1;32m~\\AppData\\Roaming\\Python\\Python311\\site-packages\\pandas\\core\\internals\\blocks.py:1403\u001B[0m, in \u001B[0;36mBlock.setitem\u001B[1;34m(self, indexer, value, using_cow)\u001B[0m\n\u001B[0;32m   1400\u001B[0m     values \u001B[38;5;241m=\u001B[39m values\u001B[38;5;241m.\u001B[39mT\n\u001B[0;32m   1402\u001B[0m \u001B[38;5;66;03m# length checking\u001B[39;00m\n\u001B[1;32m-> 1403\u001B[0m \u001B[43mcheck_setitem_lengths\u001B[49m\u001B[43m(\u001B[49m\u001B[43mindexer\u001B[49m\u001B[43m,\u001B[49m\u001B[43m \u001B[49m\u001B[43mvalue\u001B[49m\u001B[43m,\u001B[49m\u001B[43m \u001B[49m\u001B[43mvalues\u001B[49m\u001B[43m)\u001B[49m\n\u001B[0;32m   1405\u001B[0m \u001B[38;5;28;01mif\u001B[39;00m \u001B[38;5;28mself\u001B[39m\u001B[38;5;241m.\u001B[39mdtype \u001B[38;5;241m!=\u001B[39m _dtype_obj:\n\u001B[0;32m   1406\u001B[0m     \u001B[38;5;66;03m# GH48933: extract_array would convert a pd.Series value to np.ndarray\u001B[39;00m\n\u001B[0;32m   1407\u001B[0m     value \u001B[38;5;241m=\u001B[39m extract_array(value, extract_numpy\u001B[38;5;241m=\u001B[39m\u001B[38;5;28;01mTrue\u001B[39;00m)\n",
      "File \u001B[1;32m~\\AppData\\Roaming\\Python\\Python311\\site-packages\\pandas\\core\\indexers\\utils.py:166\u001B[0m, in \u001B[0;36mcheck_setitem_lengths\u001B[1;34m(indexer, value, values)\u001B[0m\n\u001B[0;32m    160\u001B[0m         indexer \u001B[38;5;241m=\u001B[39m np\u001B[38;5;241m.\u001B[39marray(indexer)\n\u001B[0;32m    161\u001B[0m     \u001B[38;5;28;01mif\u001B[39;00m \u001B[38;5;129;01mnot\u001B[39;00m (\n\u001B[0;32m    162\u001B[0m         \u001B[38;5;28misinstance\u001B[39m(indexer, np\u001B[38;5;241m.\u001B[39mndarray)\n\u001B[0;32m    163\u001B[0m         \u001B[38;5;129;01mand\u001B[39;00m indexer\u001B[38;5;241m.\u001B[39mdtype \u001B[38;5;241m==\u001B[39m np\u001B[38;5;241m.\u001B[39mbool_\n\u001B[0;32m    164\u001B[0m         \u001B[38;5;129;01mand\u001B[39;00m indexer\u001B[38;5;241m.\u001B[39msum() \u001B[38;5;241m==\u001B[39m \u001B[38;5;28mlen\u001B[39m(value)\n\u001B[0;32m    165\u001B[0m     ):\n\u001B[1;32m--> 166\u001B[0m         \u001B[38;5;28;01mraise\u001B[39;00m \u001B[38;5;167;01mValueError\u001B[39;00m(\n\u001B[0;32m    167\u001B[0m             \u001B[38;5;124m\"\u001B[39m\u001B[38;5;124mcannot set using a list-like indexer \u001B[39m\u001B[38;5;124m\"\u001B[39m\n\u001B[0;32m    168\u001B[0m             \u001B[38;5;124m\"\u001B[39m\u001B[38;5;124mwith a different length than the value\u001B[39m\u001B[38;5;124m\"\u001B[39m\n\u001B[0;32m    169\u001B[0m         )\n\u001B[0;32m    170\u001B[0m \u001B[38;5;28;01mif\u001B[39;00m \u001B[38;5;129;01mnot\u001B[39;00m \u001B[38;5;28mlen\u001B[39m(indexer):\n\u001B[0;32m    171\u001B[0m     no_op \u001B[38;5;241m=\u001B[39m \u001B[38;5;28;01mTrue\u001B[39;00m\n",
      "\u001B[1;31mValueError\u001B[0m: cannot set using a list-like indexer with a different length than the value"
     ]
    }
   ],
   "execution_count": 20
  },
  {
   "metadata": {
    "ExecuteTime": {
     "end_time": "2024-12-03T04:13:43.307006Z",
     "start_time": "2024-12-03T04:13:43.298013Z"
    }
   },
   "cell_type": "code",
   "source": "X_train.tail()",
   "id": "eca8782fd8a08e84",
   "outputs": [
    {
     "data": {
      "text/plain": [
       "      Age      Fare  Age_imputed\n",
       "534  30.0    8.6625         30.0\n",
       "584   NaN    8.7125         45.0\n",
       "493  71.0   49.5042         71.0\n",
       "527   NaN  221.7792         60.0\n",
       "168   NaN   25.9250         34.0"
      ],
      "text/html": [
       "<div>\n",
       "<style scoped>\n",
       "    .dataframe tbody tr th:only-of-type {\n",
       "        vertical-align: middle;\n",
       "    }\n",
       "\n",
       "    .dataframe tbody tr th {\n",
       "        vertical-align: top;\n",
       "    }\n",
       "\n",
       "    .dataframe thead th {\n",
       "        text-align: right;\n",
       "    }\n",
       "</style>\n",
       "<table border=\"1\" class=\"dataframe\">\n",
       "  <thead>\n",
       "    <tr style=\"text-align: right;\">\n",
       "      <th></th>\n",
       "      <th>Age</th>\n",
       "      <th>Fare</th>\n",
       "      <th>Age_imputed</th>\n",
       "    </tr>\n",
       "  </thead>\n",
       "  <tbody>\n",
       "    <tr>\n",
       "      <th>534</th>\n",
       "      <td>30.0</td>\n",
       "      <td>8.6625</td>\n",
       "      <td>30.0</td>\n",
       "    </tr>\n",
       "    <tr>\n",
       "      <th>584</th>\n",
       "      <td>NaN</td>\n",
       "      <td>8.7125</td>\n",
       "      <td>45.0</td>\n",
       "    </tr>\n",
       "    <tr>\n",
       "      <th>493</th>\n",
       "      <td>71.0</td>\n",
       "      <td>49.5042</td>\n",
       "      <td>71.0</td>\n",
       "    </tr>\n",
       "    <tr>\n",
       "      <th>527</th>\n",
       "      <td>NaN</td>\n",
       "      <td>221.7792</td>\n",
       "      <td>60.0</td>\n",
       "    </tr>\n",
       "    <tr>\n",
       "      <th>168</th>\n",
       "      <td>NaN</td>\n",
       "      <td>25.9250</td>\n",
       "      <td>34.0</td>\n",
       "    </tr>\n",
       "  </tbody>\n",
       "</table>\n",
       "</div>"
      ]
     },
     "execution_count": 21,
     "metadata": {},
     "output_type": "execute_result"
    }
   ],
   "execution_count": 21
  },
  {
   "metadata": {
    "ExecuteTime": {
     "end_time": "2024-12-03T04:14:39.099536Z",
     "start_time": "2024-12-03T04:14:38.680818Z"
    }
   },
   "cell_type": "code",
   "source": [
    "sns.distplot(X_train['Age'],label='Original',hist=False)\n",
    "sns.distplot(X_train['Age_imputed'],label='Imputed',hist=False)"
   ],
   "id": "419d939b79465b0c",
   "outputs": [
    {
     "name": "stderr",
     "output_type": "stream",
     "text": [
      "C:\\Users\\TUSHAR GANDHI\\AppData\\Local\\Temp\\ipykernel_16396\\2594364371.py:1: UserWarning: \n",
      "\n",
      "`distplot` is a deprecated function and will be removed in seaborn v0.14.0.\n",
      "\n",
      "Please adapt your code to use either `displot` (a figure-level function with\n",
      "similar flexibility) or `kdeplot` (an axes-level function for kernel density plots).\n",
      "\n",
      "For a guide to updating your code to use the new functions, please see\n",
      "https://gist.github.com/mwaskom/de44147ed2974457ad6372750bbe5751\n",
      "\n",
      "  sns.distplot(X_train['Age'],label='Original',hist=False)\n",
      "C:\\ProgramData\\anaconda3\\Lib\\site-packages\\seaborn\\_oldcore.py:1119: FutureWarning: use_inf_as_na option is deprecated and will be removed in a future version. Convert inf values to NaN before operating instead.\n",
      "  with pd.option_context('mode.use_inf_as_na', True):\n",
      "C:\\Users\\TUSHAR GANDHI\\AppData\\Local\\Temp\\ipykernel_16396\\2594364371.py:2: UserWarning: \n",
      "\n",
      "`distplot` is a deprecated function and will be removed in seaborn v0.14.0.\n",
      "\n",
      "Please adapt your code to use either `displot` (a figure-level function with\n",
      "similar flexibility) or `kdeplot` (an axes-level function for kernel density plots).\n",
      "\n",
      "For a guide to updating your code to use the new functions, please see\n",
      "https://gist.github.com/mwaskom/de44147ed2974457ad6372750bbe5751\n",
      "\n",
      "  sns.distplot(X_train['Age_imputed'],label='Imputed',hist=False)\n",
      "C:\\ProgramData\\anaconda3\\Lib\\site-packages\\seaborn\\_oldcore.py:1119: FutureWarning: use_inf_as_na option is deprecated and will be removed in a future version. Convert inf values to NaN before operating instead.\n",
      "  with pd.option_context('mode.use_inf_as_na', True):\n"
     ]
    },
    {
     "data": {
      "text/plain": [
       "<Axes: xlabel='Age_imputed', ylabel='Density'>"
      ]
     },
     "execution_count": 22,
     "metadata": {},
     "output_type": "execute_result"
    },
    {
     "data": {
      "text/plain": [
       "<Figure size 640x480 with 1 Axes>"
      ],
      "image/png": "[encoded data removed]"
     },
     "metadata": {},
     "output_type": "display_data"
    }
   ],
   "execution_count": 22
  },
  {
   "metadata": {
    "ExecuteTime": {
     "end_time": "2024-12-03T04:15:04.149547Z",
     "start_time": "2024-12-03T04:15:04.144226Z"
    }
   },
   "cell_type": "code",
   "source": "X_train['Age'].var(),X_train['Age_imputed'].var()",
   "id": "ea132cca20e94365",
   "outputs": [
    {
     "data": {
      "text/plain": [
       "(204.3495133904614, 201.53729218046266)"
      ]
     },
     "execution_count": 23,
     "metadata": {},
     "output_type": "execute_result"
    }
   ],
   "execution_count": 23
  },
  {
   "metadata": {
    "ExecuteTime": {
     "end_time": "2024-12-03T04:15:33.982551Z",
     "start_time": "2024-12-03T04:15:33.962128Z"
    }
   },
   "cell_type": "code",
   "source": "X_train[['Fare','Age','Age_imputed']].corr()",
   "id": "c997888cc63b2654",
   "outputs": [
    {
     "data": {
      "text/plain": [
       "                 Fare       Age  Age_imputed\n",
       "Fare         1.000000  0.095814     0.090126\n",
       "Age          0.095814  1.000000     1.000000\n",
       "Age_imputed  0.090126  1.000000     1.000000"
      ],
      "text/html": [
       "<div>\n",
       "<style scoped>\n",
       "    .dataframe tbody tr th:only-of-type {\n",
       "        vertical-align: middle;\n",
       "    }\n",
       "\n",
       "    .dataframe tbody tr th {\n",
       "        vertical-align: top;\n",
       "    }\n",
       "\n",
       "    .dataframe thead th {\n",
       "        text-align: right;\n",
       "    }\n",
       "</style>\n",
       "<table border=\"1\" class=\"dataframe\">\n",
       "  <thead>\n",
       "    <tr style=\"text-align: right;\">\n",
       "      <th></th>\n",
       "      <th>Fare</th>\n",
       "      <th>Age</th>\n",
       "      <th>Age_imputed</th>\n",
       "    </tr>\n",
       "  </thead>\n",
       "  <tbody>\n",
       "    <tr>\n",
       "      <th>Fare</th>\n",
       "      <td>1.000000</td>\n",
       "      <td>0.095814</td>\n",
       "      <td>0.090126</td>\n",
       "    </tr>\n",
       "    <tr>\n",
       "      <th>Age</th>\n",
       "      <td>0.095814</td>\n",
       "      <td>1.000000</td>\n",
       "      <td>1.000000</td>\n",
       "    </tr>\n",
       "    <tr>\n",
       "      <th>Age_imputed</th>\n",
       "      <td>0.090126</td>\n",
       "      <td>1.000000</td>\n",
       "      <td>1.000000</td>\n",
       "    </tr>\n",
       "  </tbody>\n",
       "</table>\n",
       "</div>"
      ]
     },
     "execution_count": 24,
     "metadata": {},
     "output_type": "execute_result"
    }
   ],
   "execution_count": 24
  },
  {
   "metadata": {
    "ExecuteTime": {
     "end_time": "2024-12-03T04:15:57.897587Z",
     "start_time": "2024-12-03T04:15:57.732853Z"
    }
   },
   "cell_type": "code",
   "source": "X_train[['Age','Age_imputed']].boxplot()",
   "id": "7411664c8ba6d1c4",
   "outputs": [
    {
     "data": {
      "text/plain": [
       "<Axes: >"
      ]
     },
     "execution_count": 25,
     "metadata": {},
     "output_type": "execute_result"
    },
    {
     "data": {
      "text/plain": [
       "<Figure size 640x480 with 1 Axes>"
      ],
      "image/png": "[encoded data removed]"
     },
     "metadata": {},
     "output_type": "display_data"
    }
   ],
   "execution_count": 25
  },
  {
   "metadata": {
    "ExecuteTime": {
     "end_time": "2024-12-03T04:18:37.594965Z",
     "start_time": "2024-12-03T04:18:37.515495Z"
    }
   },
   "cell_type": "code",
   "source": "data = pd.read_csv('train._housecsv.csv',usecols=['GarageQual','FireplaceQu','SalePrice'])",
   "id": "7457fe8588d56e44",
   "outputs": [],
   "execution_count": 26
  },
  {
   "metadata": {
    "ExecuteTime": {
     "end_time": "2024-12-03T04:18:42.479698Z",
     "start_time": "2024-12-03T04:18:42.471773Z"
    }
   },
   "cell_type": "code",
   "source": "data.head()",
   "id": "f5836c26558ec49f",
   "outputs": [
    {
     "data": {
      "text/plain": [
       "  FireplaceQu GarageQual  SalePrice\n",
       "0         NaN         TA     208500\n",
       "1          TA         TA     181500\n",
       "2          TA         TA     223500\n",
       "3          Gd         TA     140000\n",
       "4          TA         TA     250000"
      ],
      "text/html": [
       "<div>\n",
       "<style scoped>\n",
       "    .dataframe tbody tr th:only-of-type {\n",
       "        vertical-align: middle;\n",
       "    }\n",
       "\n",
       "    .dataframe tbody tr th {\n",
       "        vertical-align: top;\n",
       "    }\n",
       "\n",
       "    .dataframe thead th {\n",
       "        text-align: right;\n",
       "    }\n",
       "</style>\n",
       "<table border=\"1\" class=\"dataframe\">\n",
       "  <thead>\n",
       "    <tr style=\"text-align: right;\">\n",
       "      <th></th>\n",
       "      <th>FireplaceQu</th>\n",
       "      <th>GarageQual</th>\n",
       "      <th>SalePrice</th>\n",
       "    </tr>\n",
       "  </thead>\n",
       "  <tbody>\n",
       "    <tr>\n",
       "      <th>0</th>\n",
       "      <td>NaN</td>\n",
       "      <td>TA</td>\n",
       "      <td>208500</td>\n",
       "    </tr>\n",
       "    <tr>\n",
       "      <th>1</th>\n",
       "      <td>TA</td>\n",
       "      <td>TA</td>\n",
       "      <td>181500</td>\n",
       "    </tr>\n",
       "    <tr>\n",
       "      <th>2</th>\n",
       "      <td>TA</td>\n",
       "      <td>TA</td>\n",
       "      <td>223500</td>\n",
       "    </tr>\n",
       "    <tr>\n",
       "      <th>3</th>\n",
       "      <td>Gd</td>\n",
       "      <td>TA</td>\n",
       "      <td>140000</td>\n",
       "    </tr>\n",
       "    <tr>\n",
       "      <th>4</th>\n",
       "      <td>TA</td>\n",
       "      <td>TA</td>\n",
       "      <td>250000</td>\n",
       "    </tr>\n",
       "  </tbody>\n",
       "</table>\n",
       "</div>"
      ]
     },
     "execution_count": 27,
     "metadata": {},
     "output_type": "execute_result"
    }
   ],
   "execution_count": 27
  },
  {
   "metadata": {
    "ExecuteTime": {
     "end_time": "2024-12-03T04:18:56.441694Z",
     "start_time": "2024-12-03T04:18:56.435301Z"
    }
   },
   "cell_type": "code",
   "source": "data.isnull().mean()*100",
   "id": "7bbaf5cade17b8ae",
   "outputs": [
    {
     "data": {
      "text/plain": [
       "FireplaceQu    47.260274\n",
       "GarageQual      5.547945\n",
       "SalePrice       0.000000\n",
       "dtype: float64"
      ]
     },
     "execution_count": 28,
     "metadata": {},
     "output_type": "execute_result"
    }
   ],
   "execution_count": 28
  },
  {
   "metadata": {},
   "cell_type": "code",
   "outputs": [],
   "execution_count": null,
   "source": "",
   "id": "19efcb90538415ca"
  }
 ],
 "metadata": {
  "kernelspec": {
   "display_name": "Python 3",
   "language": "python",
   "name": "python3"
  },
  "language_info": {
   "codemirror_mode": {
    "name": "ipython",
    "version": 2
   },
   "file_extension": ".py",
   "mimetype": "text/x-python",
   "name": "python",
   "nbconvert_exporter": "python",
   "pygments_lexer": "ipython2",
   "version": "2.7.6"
  }
 },
 "nbformat": 4,
 "nbformat_minor": 5
}

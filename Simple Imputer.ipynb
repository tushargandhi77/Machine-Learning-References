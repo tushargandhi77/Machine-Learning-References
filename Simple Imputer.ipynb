{
 "cells": [
  {
   "cell_type": "code",
   "id": "initial_id",
   "metadata": {
    "collapsed": true,
    "ExecuteTime": {
     "end_time": "2024-11-29T04:35:41.222490Z",
     "start_time": "2024-11-29T04:35:40.162952Z"
    }
   },
   "source": [
    "import pandas as pd\n",
    "import numpy as np\n",
    "import matplotlib.pyplot as plt"
   ],
   "outputs": [],
   "execution_count": 1
  },
  {
   "metadata": {
    "ExecuteTime": {
     "end_time": "2024-11-29T04:36:06.580930Z",
     "start_time": "2024-11-29T04:36:05.012324Z"
    }
   },
   "cell_type": "code",
   "source": [
    "from sklearn.model_selection import train_test_split\n",
    "from sklearn.impute import SimpleImputer\n",
    "from sklearn.compose import ColumnTransformer"
   ],
   "id": "cf5c3140703b368e",
   "outputs": [],
   "execution_count": 2
  },
  {
   "metadata": {
    "ExecuteTime": {
     "end_time": "2024-11-29T04:38:22.050700Z",
     "start_time": "2024-11-29T04:38:21.946535Z"
    }
   },
   "cell_type": "code",
   "source": "df = pd.read_csv('titanic_toy.csv')",
   "id": "79e77226c9873cfd",
   "outputs": [],
   "execution_count": 6
  },
  {
   "metadata": {
    "ExecuteTime": {
     "end_time": "2024-11-29T04:38:22.337522Z",
     "start_time": "2024-11-29T04:38:22.328669Z"
    }
   },
   "cell_type": "code",
   "source": "df.head()",
   "id": "72c0ec03e61e4a77",
   "outputs": [
    {
     "data": {
      "text/plain": [
       "    Age     Fare  Family  Survived\n",
       "0  22.0   7.2500       1         0\n",
       "1  38.0  71.2833       1         1\n",
       "2  26.0   7.9250       0         1\n",
       "3  35.0  53.1000       1         1\n",
       "4  35.0   8.0500       0         0"
      ],
      "text/html": [
       "<div>\n",
       "<style scoped>\n",
       "    .dataframe tbody tr th:only-of-type {\n",
       "        vertical-align: middle;\n",
       "    }\n",
       "\n",
       "    .dataframe tbody tr th {\n",
       "        vertical-align: top;\n",
       "    }\n",
       "\n",
       "    .dataframe thead th {\n",
       "        text-align: right;\n",
       "    }\n",
       "</style>\n",
       "<table border=\"1\" class=\"dataframe\">\n",
       "  <thead>\n",
       "    <tr style=\"text-align: right;\">\n",
       "      <th></th>\n",
       "      <th>Age</th>\n",
       "      <th>Fare</th>\n",
       "      <th>Family</th>\n",
       "      <th>Survived</th>\n",
       "    </tr>\n",
       "  </thead>\n",
       "  <tbody>\n",
       "    <tr>\n",
       "      <th>0</th>\n",
       "      <td>22.0</td>\n",
       "      <td>7.2500</td>\n",
       "      <td>1</td>\n",
       "      <td>0</td>\n",
       "    </tr>\n",
       "    <tr>\n",
       "      <th>1</th>\n",
       "      <td>38.0</td>\n",
       "      <td>71.2833</td>\n",
       "      <td>1</td>\n",
       "      <td>1</td>\n",
       "    </tr>\n",
       "    <tr>\n",
       "      <th>2</th>\n",
       "      <td>26.0</td>\n",
       "      <td>7.9250</td>\n",
       "      <td>0</td>\n",
       "      <td>1</td>\n",
       "    </tr>\n",
       "    <tr>\n",
       "      <th>3</th>\n",
       "      <td>35.0</td>\n",
       "      <td>53.1000</td>\n",
       "      <td>1</td>\n",
       "      <td>1</td>\n",
       "    </tr>\n",
       "    <tr>\n",
       "      <th>4</th>\n",
       "      <td>35.0</td>\n",
       "      <td>8.0500</td>\n",
       "      <td>0</td>\n",
       "      <td>0</td>\n",
       "    </tr>\n",
       "  </tbody>\n",
       "</table>\n",
       "</div>"
      ]
     },
     "execution_count": 7,
     "metadata": {},
     "output_type": "execute_result"
    }
   ],
   "execution_count": 7
  },
  {
   "metadata": {
    "ExecuteTime": {
     "end_time": "2024-11-29T04:38:29.769355Z",
     "start_time": "2024-11-29T04:38:29.744699Z"
    }
   },
   "cell_type": "code",
   "source": "df.info()",
   "id": "4fdd0a43ce9ceb6",
   "outputs": [
    {
     "name": "stdout",
     "output_type": "stream",
     "text": [
      "<class 'pandas.core.frame.DataFrame'>\n",
      "RangeIndex: 891 entries, 0 to 890\n",
      "Data columns (total 4 columns):\n",
      " #   Column    Non-Null Count  Dtype  \n",
      "---  ------    --------------  -----  \n",
      " 0   Age       714 non-null    float64\n",
      " 1   Fare      846 non-null    float64\n",
      " 2   Family    891 non-null    int64  \n",
      " 3   Survived  891 non-null    int64  \n",
      "dtypes: float64(2), int64(2)\n",
      "memory usage: 28.0 KB\n"
     ]
    }
   ],
   "execution_count": 8
  },
  {
   "metadata": {
    "ExecuteTime": {
     "end_time": "2024-11-29T04:38:39.802258Z",
     "start_time": "2024-11-29T04:38:39.796718Z"
    }
   },
   "cell_type": "code",
   "source": "df.isna().mean()*100",
   "id": "259442d7e75c0457",
   "outputs": [
    {
     "data": {
      "text/plain": [
       "Age         19.865320\n",
       "Fare         5.050505\n",
       "Family       0.000000\n",
       "Survived     0.000000\n",
       "dtype: float64"
      ]
     },
     "execution_count": 9,
     "metadata": {},
     "output_type": "execute_result"
    }
   ],
   "execution_count": 9
  },
  {
   "metadata": {
    "ExecuteTime": {
     "end_time": "2024-11-29T04:39:01.114471Z",
     "start_time": "2024-11-29T04:39:01.110925Z"
    }
   },
   "cell_type": "code",
   "source": [
    "X = df.drop(columns=['Survived'])\n",
    "y = df['Survived']"
   ],
   "id": "e7399dbcea5bd87a",
   "outputs": [],
   "execution_count": 10
  },
  {
   "metadata": {
    "ExecuteTime": {
     "end_time": "2024-11-29T04:39:55.980640Z",
     "start_time": "2024-11-29T04:39:55.973622Z"
    }
   },
   "cell_type": "code",
   "source": "X_train, X_test, y_train, y_test = train_test_split(X, y, test_size=0.2, random_state=2)",
   "id": "7c7a213aa530b947",
   "outputs": [],
   "execution_count": 13
  },
  {
   "metadata": {
    "ExecuteTime": {
     "end_time": "2024-11-29T04:39:56.719568Z",
     "start_time": "2024-11-29T04:39:56.713561Z"
    }
   },
   "cell_type": "code",
   "source": "X_train.isnull().mean()*100",
   "id": "9f4e12efe3807a9a",
   "outputs": [
    {
     "data": {
      "text/plain": [
       "Age       20.786517\n",
       "Fare       5.056180\n",
       "Family     0.000000\n",
       "dtype: float64"
      ]
     },
     "execution_count": 14,
     "metadata": {},
     "output_type": "execute_result"
    }
   ],
   "execution_count": 14
  },
  {
   "metadata": {
    "ExecuteTime": {
     "end_time": "2024-11-29T04:41:15.131164Z",
     "start_time": "2024-11-29T04:41:15.120656Z"
    }
   },
   "cell_type": "code",
   "source": [
    "mean_age = X_train['Age'].mean()\n",
    "median_age = X_train['Age'].median()\n",
    "\n",
    "mean_Fare = X_train['Fare'].std()\n",
    "median_Fare = X_train['Fare'].median()"
   ],
   "id": "be7dd18fdd21691e",
   "outputs": [],
   "execution_count": 15
  },
  {
   "metadata": {
    "ExecuteTime": {
     "end_time": "2024-11-29T04:42:47.332010Z",
     "start_time": "2024-11-29T04:42:47.325912Z"
    }
   },
   "cell_type": "code",
   "source": [
    "X_train['Age_median'] = X_train['Age'].fillna(median_age)\n",
    "X_train['Age_mean'] = X_train['Age'].fillna(mean_age)\n",
    "\n",
    "X_train['Fare_median'] = X_train['Fare'].fillna(median_Fare)\n",
    "X_train['Fare_mean'] = X_train['Fare'].fillna(mean_Fare)"
   ],
   "id": "b2e26798e0f7b631",
   "outputs": [],
   "execution_count": 18
  },
  {
   "metadata": {
    "ExecuteTime": {
     "end_time": "2024-11-29T04:42:48.306311Z",
     "start_time": "2024-11-29T04:42:48.295299Z"
    }
   },
   "cell_type": "code",
   "source": "X_train.sample(5)",
   "id": "b6e2d82e65cee411",
   "outputs": [
    {
     "data": {
      "text/plain": [
       "      Age     Fare  Family  Age_median  Age_mean  Fare_median  Fare_mean\n",
       "394  24.0  16.7000       2        24.0      24.0      16.7000    16.7000\n",
       "807  18.0   7.7750       0        18.0      18.0       7.7750     7.7750\n",
       "69   26.0   8.6625       2        26.0      26.0       8.6625     8.6625\n",
       "750   4.0  23.0000       2         4.0       4.0      23.0000    23.0000\n",
       "456  65.0  26.5500       0        65.0      65.0      26.5500    26.5500"
      ],
      "text/html": [
       "<div>\n",
       "<style scoped>\n",
       "    .dataframe tbody tr th:only-of-type {\n",
       "        vertical-align: middle;\n",
       "    }\n",
       "\n",
       "    .dataframe tbody tr th {\n",
       "        vertical-align: top;\n",
       "    }\n",
       "\n",
       "    .dataframe thead th {\n",
       "        text-align: right;\n",
       "    }\n",
       "</style>\n",
       "<table border=\"1\" class=\"dataframe\">\n",
       "  <thead>\n",
       "    <tr style=\"text-align: right;\">\n",
       "      <th></th>\n",
       "      <th>Age</th>\n",
       "      <th>Fare</th>\n",
       "      <th>Family</th>\n",
       "      <th>Age_median</th>\n",
       "      <th>Age_mean</th>\n",
       "      <th>Fare_median</th>\n",
       "      <th>Fare_mean</th>\n",
       "    </tr>\n",
       "  </thead>\n",
       "  <tbody>\n",
       "    <tr>\n",
       "      <th>394</th>\n",
       "      <td>24.0</td>\n",
       "      <td>16.7000</td>\n",
       "      <td>2</td>\n",
       "      <td>24.0</td>\n",
       "      <td>24.0</td>\n",
       "      <td>16.7000</td>\n",
       "      <td>16.7000</td>\n",
       "    </tr>\n",
       "    <tr>\n",
       "      <th>807</th>\n",
       "      <td>18.0</td>\n",
       "      <td>7.7750</td>\n",
       "      <td>0</td>\n",
       "      <td>18.0</td>\n",
       "      <td>18.0</td>\n",
       "      <td>7.7750</td>\n",
       "      <td>7.7750</td>\n",
       "    </tr>\n",
       "    <tr>\n",
       "      <th>69</th>\n",
       "      <td>26.0</td>\n",
       "      <td>8.6625</td>\n",
       "      <td>2</td>\n",
       "      <td>26.0</td>\n",
       "      <td>26.0</td>\n",
       "      <td>8.6625</td>\n",
       "      <td>8.6625</td>\n",
       "    </tr>\n",
       "    <tr>\n",
       "      <th>750</th>\n",
       "      <td>4.0</td>\n",
       "      <td>23.0000</td>\n",
       "      <td>2</td>\n",
       "      <td>4.0</td>\n",
       "      <td>4.0</td>\n",
       "      <td>23.0000</td>\n",
       "      <td>23.0000</td>\n",
       "    </tr>\n",
       "    <tr>\n",
       "      <th>456</th>\n",
       "      <td>65.0</td>\n",
       "      <td>26.5500</td>\n",
       "      <td>0</td>\n",
       "      <td>65.0</td>\n",
       "      <td>65.0</td>\n",
       "      <td>26.5500</td>\n",
       "      <td>26.5500</td>\n",
       "    </tr>\n",
       "  </tbody>\n",
       "</table>\n",
       "</div>"
      ]
     },
     "execution_count": 19,
     "metadata": {},
     "output_type": "execute_result"
    }
   ],
   "execution_count": 19
  },
  {
   "metadata": {
    "ExecuteTime": {
     "end_time": "2024-11-29T04:45:15.122078Z",
     "start_time": "2024-11-29T04:45:15.115770Z"
    }
   },
   "cell_type": "code",
   "source": [
    "print('Original Age variable Variance:', X_train['Age'].var())\n",
    "print('Age Variance after median Imputation:', X_train['Age_median'].var())\n",
    "print('Age variance after mean Imputation:', X_train['Age_mean'].var())\n",
    "\n",
    "print('Original Fare variable Variance:', X_train['Fare'].var())\n",
    "print('Fare Variance after median Imputation:', X_train['Fare_median'].var())\n",
    "print('Fare variance after mean Imputation:', X_train['Fare_mean'].var())"
   ],
   "id": "7a8ddd024ee93a84",
   "outputs": [
    {
     "name": "stdout",
     "output_type": "stream",
     "text": [
      "Original Age variable Variance: 204.3495133904614\n",
      "Age Variance after median Imputation: 161.9895663346054\n",
      "Age variance after mean Imputation: 161.81262452718673\n",
      "Original Fare variable Variance: 2448.197913706318\n",
      "Fare Variance after median Imputation: 2340.0910219753637\n",
      "Fare variance after mean Imputation: 2337.9063945945954\n"
     ]
    }
   ],
   "execution_count": 20
  },
  {
   "metadata": {
    "ExecuteTime": {
     "end_time": "2024-11-29T04:47:16.697615Z",
     "start_time": "2024-11-29T04:47:16.225097Z"
    }
   },
   "cell_type": "code",
   "source": [
    "fig = plt.figure()\n",
    "ax = fig.add_subplot(111)\n",
    "\n",
    "X_train['Age'].plot(kind='kde',ax=ax)\n",
    "\n",
    "X_train['Age_median'].plot(kind='kde',ax=ax,color='red')\n",
    "\n",
    "X_train['Age_mean'].plot(kind='kde',ax=ax,color='blue')\n",
    "\n",
    "lines,labels = ax.get_legend_handles_labels()\n",
    "ax.legend(lines,labels,loc='best')"
   ],
   "id": "c527b6d59fcb4c16",
   "outputs": [
    {
     "data": {
      "text/plain": [
       "<matplotlib.legend.Legend at 0x18a47d75750>"
      ]
     },
     "execution_count": 21,
     "metadata": {},
     "output_type": "execute_result"
    },
    {
     "data": {
      "text/plain": [
       "<Figure size 640x480 with 1 Axes>"
      ],
      "image/png": "[encoded data removed]"
     },
     "metadata": {},
     "output_type": "display_data"
    }
   ],
   "execution_count": 21
  },
  {
   "metadata": {
    "ExecuteTime": {
     "end_time": "2024-11-29T04:48:23.224179Z",
     "start_time": "2024-11-29T04:48:22.979906Z"
    }
   },
   "cell_type": "code",
   "source": [
    "fig = plt.figure()\n",
    "ax = fig.add_subplot(111)\n",
    "\n",
    "X_train['Fare'].plot(kind='kde',ax=ax)\n",
    "\n",
    "X_train['Fare_median'].plot(kind='kde',ax=ax,color='red')\n",
    "\n",
    "X_train['Fare_mean'].plot(kind='kde',ax=ax,color='blue')\n",
    "\n",
    "lines,labels = ax.get_legend_handles_labels()\n",
    "ax.legend(lines,labels,loc='best')"
   ],
   "id": "ca773e22f2231bfe",
   "outputs": [
    {
     "data": {
      "text/plain": [
       "<matplotlib.legend.Legend at 0x18a477c9fd0>"
      ]
     },
     "execution_count": 22,
     "metadata": {},
     "output_type": "execute_result"
    },
    {
     "data": {
      "text/plain": [
       "<Figure size 640x480 with 1 Axes>"
      ],
      "image/png": "[encoded data removed]"
     },
     "metadata": {},
     "output_type": "display_data"
    }
   ],
   "execution_count": 22
  },
  {
   "metadata": {
    "ExecuteTime": {
     "end_time": "2024-11-29T04:48:46.571307Z",
     "start_time": "2024-11-29T04:48:46.560056Z"
    }
   },
   "cell_type": "code",
   "source": "X_train.cov()",
   "id": "48e100f2106ee560",
   "outputs": [
    {
     "data": {
      "text/plain": [
       "                    Age         Fare     Family  Age_median    Age_mean  \\\n",
       "Age          204.349513    70.719262  -6.498901  204.349513  204.349513   \n",
       "Fare          70.719262  2448.197914  17.258917   57.957599   55.603719   \n",
       "Family        -6.498901    17.258917   2.735252   -5.112563   -5.146106   \n",
       "Age_median   204.349513    57.957599  -5.112563  161.989566  161.812625   \n",
       "Age_mean     204.349513    55.603719  -5.146106  161.812625  161.812625   \n",
       "Fare_median   64.858859  2448.197914  16.476305   53.553455   51.358000   \n",
       "Fare_mean     68.342473  2448.197914  16.300312   56.387606   54.116473   \n",
       "\n",
       "             Fare_median    Fare_mean  \n",
       "Age            64.858859    68.342473  \n",
       "Fare         2448.197914  2448.197914  \n",
       "Family         16.476305    16.300312  \n",
       "Age_median     53.553455    56.387606  \n",
       "Age_mean       51.358000    54.116473  \n",
       "Fare_median  2340.091022  2309.518816  \n",
       "Fare_mean    2309.518816  2337.906395  "
      ],
      "text/html": [
       "<div>\n",
       "<style scoped>\n",
       "    .dataframe tbody tr th:only-of-type {\n",
       "        vertical-align: middle;\n",
       "    }\n",
       "\n",
       "    .dataframe tbody tr th {\n",
       "        vertical-align: top;\n",
       "    }\n",
       "\n",
       "    .dataframe thead th {\n",
       "        text-align: right;\n",
       "    }\n",
       "</style>\n",
       "<table border=\"1\" class=\"dataframe\">\n",
       "  <thead>\n",
       "    <tr style=\"text-align: right;\">\n",
       "      <th></th>\n",
       "      <th>Age</th>\n",
       "      <th>Fare</th>\n",
       "      <th>Family</th>\n",
       "      <th>Age_median</th>\n",
       "      <th>Age_mean</th>\n",
       "      <th>Fare_median</th>\n",
       "      <th>Fare_mean</th>\n",
       "    </tr>\n",
       "  </thead>\n",
       "  <tbody>\n",
       "    <tr>\n",
       "      <th>Age</th>\n",
       "      <td>204.349513</td>\n",
       "      <td>70.719262</td>\n",
       "      <td>-6.498901</td>\n",
       "      <td>204.349513</td>\n",
       "      <td>204.349513</td>\n",
       "      <td>64.858859</td>\n",
       "      <td>68.342473</td>\n",
       "    </tr>\n",
       "    <tr>\n",
       "      <th>Fare</th>\n",
       "      <td>70.719262</td>\n",
       "      <td>2448.197914</td>\n",
       "      <td>17.258917</td>\n",
       "      <td>57.957599</td>\n",
       "      <td>55.603719</td>\n",
       "      <td>2448.197914</td>\n",
       "      <td>2448.197914</td>\n",
       "    </tr>\n",
       "    <tr>\n",
       "      <th>Family</th>\n",
       "      <td>-6.498901</td>\n",
       "      <td>17.258917</td>\n",
       "      <td>2.735252</td>\n",
       "      <td>-5.112563</td>\n",
       "      <td>-5.146106</td>\n",
       "      <td>16.476305</td>\n",
       "      <td>16.300312</td>\n",
       "    </tr>\n",
       "    <tr>\n",
       "      <th>Age_median</th>\n",
       "      <td>204.349513</td>\n",
       "      <td>57.957599</td>\n",
       "      <td>-5.112563</td>\n",
       "      <td>161.989566</td>\n",
       "      <td>161.812625</td>\n",
       "      <td>53.553455</td>\n",
       "      <td>56.387606</td>\n",
       "    </tr>\n",
       "    <tr>\n",
       "      <th>Age_mean</th>\n",
       "      <td>204.349513</td>\n",
       "      <td>55.603719</td>\n",
       "      <td>-5.146106</td>\n",
       "      <td>161.812625</td>\n",
       "      <td>161.812625</td>\n",
       "      <td>51.358000</td>\n",
       "      <td>54.116473</td>\n",
       "    </tr>\n",
       "    <tr>\n",
       "      <th>Fare_median</th>\n",
       "      <td>64.858859</td>\n",
       "      <td>2448.197914</td>\n",
       "      <td>16.476305</td>\n",
       "      <td>53.553455</td>\n",
       "      <td>51.358000</td>\n",
       "      <td>2340.091022</td>\n",
       "      <td>2309.518816</td>\n",
       "    </tr>\n",
       "    <tr>\n",
       "      <th>Fare_mean</th>\n",
       "      <td>68.342473</td>\n",
       "      <td>2448.197914</td>\n",
       "      <td>16.300312</td>\n",
       "      <td>56.387606</td>\n",
       "      <td>54.116473</td>\n",
       "      <td>2309.518816</td>\n",
       "      <td>2337.906395</td>\n",
       "    </tr>\n",
       "  </tbody>\n",
       "</table>\n",
       "</div>"
      ]
     },
     "execution_count": 23,
     "metadata": {},
     "output_type": "execute_result"
    }
   ],
   "execution_count": 23
  },
  {
   "metadata": {
    "ExecuteTime": {
     "end_time": "2024-11-29T04:49:20.634274Z",
     "start_time": "2024-11-29T04:49:20.624876Z"
    }
   },
   "cell_type": "code",
   "source": "X_train.corr()",
   "id": "e59732f32126381f",
   "outputs": [
    {
     "data": {
      "text/plain": [
       "                  Age      Fare    Family  Age_median  Age_mean  Fare_median  \\\n",
       "Age          1.000000  0.092644 -0.299113    1.000000  1.000000     0.087356   \n",
       "Fare         0.092644  1.000000  0.208268    0.091757  0.088069     1.000000   \n",
       "Family      -0.299113  0.208268  1.000000   -0.242883 -0.244610     0.205942   \n",
       "Age_median   1.000000  0.091757 -0.242883    1.000000  0.999454     0.086982   \n",
       "Age_mean     1.000000  0.088069 -0.244610    0.999454  1.000000     0.083461   \n",
       "Fare_median  0.087356  1.000000  0.205942    0.086982  0.083461     1.000000   \n",
       "Fare_mean    0.092261  1.000000  0.203837    0.091628  0.087985     0.987396   \n",
       "\n",
       "             Fare_mean  \n",
       "Age           0.092261  \n",
       "Fare          1.000000  \n",
       "Family        0.203837  \n",
       "Age_median    0.091628  \n",
       "Age_mean      0.087985  \n",
       "Fare_median   0.987396  \n",
       "Fare_mean     1.000000  "
      ],
      "text/html": [
       "<div>\n",
       "<style scoped>\n",
       "    .dataframe tbody tr th:only-of-type {\n",
       "        vertical-align: middle;\n",
       "    }\n",
       "\n",
       "    .dataframe tbody tr th {\n",
       "        vertical-align: top;\n",
       "    }\n",
       "\n",
       "    .dataframe thead th {\n",
       "        text-align: right;\n",
       "    }\n",
       "</style>\n",
       "<table border=\"1\" class=\"dataframe\">\n",
       "  <thead>\n",
       "    <tr style=\"text-align: right;\">\n",
       "      <th></th>\n",
       "      <th>Age</th>\n",
       "      <th>Fare</th>\n",
       "      <th>Family</th>\n",
       "      <th>Age_median</th>\n",
       "      <th>Age_mean</th>\n",
       "      <th>Fare_median</th>\n",
       "      <th>Fare_mean</th>\n",
       "    </tr>\n",
       "  </thead>\n",
       "  <tbody>\n",
       "    <tr>\n",
       "      <th>Age</th>\n",
       "      <td>1.000000</td>\n",
       "      <td>0.092644</td>\n",
       "      <td>-0.299113</td>\n",
       "      <td>1.000000</td>\n",
       "      <td>1.000000</td>\n",
       "      <td>0.087356</td>\n",
       "      <td>0.092261</td>\n",
       "    </tr>\n",
       "    <tr>\n",
       "      <th>Fare</th>\n",
       "      <td>0.092644</td>\n",
       "      <td>1.000000</td>\n",
       "      <td>0.208268</td>\n",
       "      <td>0.091757</td>\n",
       "      <td>0.088069</td>\n",
       "      <td>1.000000</td>\n",
       "      <td>1.000000</td>\n",
       "    </tr>\n",
       "    <tr>\n",
       "      <th>Family</th>\n",
       "      <td>-0.299113</td>\n",
       "      <td>0.208268</td>\n",
       "      <td>1.000000</td>\n",
       "      <td>-0.242883</td>\n",
       "      <td>-0.244610</td>\n",
       "      <td>0.205942</td>\n",
       "      <td>0.203837</td>\n",
       "    </tr>\n",
       "    <tr>\n",
       "      <th>Age_median</th>\n",
       "      <td>1.000000</td>\n",
       "      <td>0.091757</td>\n",
       "      <td>-0.242883</td>\n",
       "      <td>1.000000</td>\n",
       "      <td>0.999454</td>\n",
       "      <td>0.086982</td>\n",
       "      <td>0.091628</td>\n",
       "    </tr>\n",
       "    <tr>\n",
       "      <th>Age_mean</th>\n",
       "      <td>1.000000</td>\n",
       "      <td>0.088069</td>\n",
       "      <td>-0.244610</td>\n",
       "      <td>0.999454</td>\n",
       "      <td>1.000000</td>\n",
       "      <td>0.083461</td>\n",
       "      <td>0.087985</td>\n",
       "    </tr>\n",
       "    <tr>\n",
       "      <th>Fare_median</th>\n",
       "      <td>0.087356</td>\n",
       "      <td>1.000000</td>\n",
       "      <td>0.205942</td>\n",
       "      <td>0.086982</td>\n",
       "      <td>0.083461</td>\n",
       "      <td>1.000000</td>\n",
       "      <td>0.987396</td>\n",
       "    </tr>\n",
       "    <tr>\n",
       "      <th>Fare_mean</th>\n",
       "      <td>0.092261</td>\n",
       "      <td>1.000000</td>\n",
       "      <td>0.203837</td>\n",
       "      <td>0.091628</td>\n",
       "      <td>0.087985</td>\n",
       "      <td>0.987396</td>\n",
       "      <td>1.000000</td>\n",
       "    </tr>\n",
       "  </tbody>\n",
       "</table>\n",
       "</div>"
      ]
     },
     "execution_count": 24,
     "metadata": {},
     "output_type": "execute_result"
    }
   ],
   "execution_count": 24
  },
  {
   "metadata": {
    "ExecuteTime": {
     "end_time": "2024-11-29T04:50:08.111565Z",
     "start_time": "2024-11-29T04:50:07.996345Z"
    }
   },
   "cell_type": "code",
   "source": "X_train[['Age','Age_median','Age_mean']].boxplot()",
   "id": "8c9fc3d44d3d5be4",
   "outputs": [
    {
     "data": {
      "text/plain": [
       "<Axes: >"
      ]
     },
     "execution_count": 25,
     "metadata": {},
     "output_type": "execute_result"
    },
    {
     "data": {
      "text/plain": [
       "<Figure size 640x480 with 1 Axes>"
      ],
      "image/png": "[encoded data removed]"
     },
     "metadata": {},
     "output_type": "display_data"
    }
   ],
   "execution_count": 25
  },
  {
   "metadata": {
    "ExecuteTime": {
     "end_time": "2024-11-29T04:50:38.452006Z",
     "start_time": "2024-11-29T04:50:38.318818Z"
    }
   },
   "cell_type": "code",
   "source": "X_train[['Fare','Fare_median','Fare_mean']].boxplot()",
   "id": "a477431ee99a603",
   "outputs": [
    {
     "data": {
      "text/plain": [
       "<Axes: >"
      ]
     },
     "execution_count": 27,
     "metadata": {},
     "output_type": "execute_result"
    },
    {
     "data": {
      "text/plain": [
       "<Figure size 640x480 with 1 Axes>"
      ],
      "image/png": "[encoded data removed]"
     },
     "metadata": {},
     "output_type": "display_data"
    }
   ],
   "execution_count": 27
  },
  {
   "metadata": {},
   "cell_type": "markdown",
   "source": "# Using Sklearn",
   "id": "7a6dd15d85cf261e"
  },
  {
   "metadata": {
    "ExecuteTime": {
     "end_time": "2024-11-29T04:53:12.274127Z",
     "start_time": "2024-11-29T04:53:12.268172Z"
    }
   },
   "cell_type": "code",
   "source": "X_train,X_test,y_train,y_test = train_test_split(X,y,test_size=0.2,random_state=2)",
   "id": "b8002f8046e1ca87",
   "outputs": [],
   "execution_count": 30
  },
  {
   "metadata": {
    "ExecuteTime": {
     "end_time": "2024-11-29T04:53:18.305951Z",
     "start_time": "2024-11-29T04:53:18.296200Z"
    }
   },
   "cell_type": "code",
   "source": "X_train",
   "id": "2655cdba2dc20413",
   "outputs": [
    {
     "data": {
      "text/plain": [
       "      Age      Fare  Family\n",
       "30   40.0   27.7208       0\n",
       "10    4.0   16.7000       2\n",
       "873  47.0    9.0000       0\n",
       "182   9.0   31.3875       6\n",
       "876  20.0    9.8458       0\n",
       "..    ...       ...     ...\n",
       "534  30.0    8.6625       0\n",
       "584   NaN    8.7125       0\n",
       "493  71.0   49.5042       0\n",
       "527   NaN  221.7792       0\n",
       "168   NaN   25.9250       0\n",
       "\n",
       "[712 rows x 3 columns]"
      ],
      "text/html": [
       "<div>\n",
       "<style scoped>\n",
       "    .dataframe tbody tr th:only-of-type {\n",
       "        vertical-align: middle;\n",
       "    }\n",
       "\n",
       "    .dataframe tbody tr th {\n",
       "        vertical-align: top;\n",
       "    }\n",
       "\n",
       "    .dataframe thead th {\n",
       "        text-align: right;\n",
       "    }\n",
       "</style>\n",
       "<table border=\"1\" class=\"dataframe\">\n",
       "  <thead>\n",
       "    <tr style=\"text-align: right;\">\n",
       "      <th></th>\n",
       "      <th>Age</th>\n",
       "      <th>Fare</th>\n",
       "      <th>Family</th>\n",
       "    </tr>\n",
       "  </thead>\n",
       "  <tbody>\n",
       "    <tr>\n",
       "      <th>30</th>\n",
       "      <td>40.0</td>\n",
       "      <td>27.7208</td>\n",
       "      <td>0</td>\n",
       "    </tr>\n",
       "    <tr>\n",
       "      <th>10</th>\n",
       "      <td>4.0</td>\n",
       "      <td>16.7000</td>\n",
       "      <td>2</td>\n",
       "    </tr>\n",
       "    <tr>\n",
       "      <th>873</th>\n",
       "      <td>47.0</td>\n",
       "      <td>9.0000</td>\n",
       "      <td>0</td>\n",
       "    </tr>\n",
       "    <tr>\n",
       "      <th>182</th>\n",
       "      <td>9.0</td>\n",
       "      <td>31.3875</td>\n",
       "      <td>6</td>\n",
       "    </tr>\n",
       "    <tr>\n",
       "      <th>876</th>\n",
       "      <td>20.0</td>\n",
       "      <td>9.8458</td>\n",
       "      <td>0</td>\n",
       "    </tr>\n",
       "    <tr>\n",
       "      <th>...</th>\n",
       "      <td>...</td>\n",
       "      <td>...</td>\n",
       "      <td>...</td>\n",
       "    </tr>\n",
       "    <tr>\n",
       "      <th>534</th>\n",
       "      <td>30.0</td>\n",
       "      <td>8.6625</td>\n",
       "      <td>0</td>\n",
       "    </tr>\n",
       "    <tr>\n",
       "      <th>584</th>\n",
       "      <td>NaN</td>\n",
       "      <td>8.7125</td>\n",
       "      <td>0</td>\n",
       "    </tr>\n",
       "    <tr>\n",
       "      <th>493</th>\n",
       "      <td>71.0</td>\n",
       "      <td>49.5042</td>\n",
       "      <td>0</td>\n",
       "    </tr>\n",
       "    <tr>\n",
       "      <th>527</th>\n",
       "      <td>NaN</td>\n",
       "      <td>221.7792</td>\n",
       "      <td>0</td>\n",
       "    </tr>\n",
       "    <tr>\n",
       "      <th>168</th>\n",
       "      <td>NaN</td>\n",
       "      <td>25.9250</td>\n",
       "      <td>0</td>\n",
       "    </tr>\n",
       "  </tbody>\n",
       "</table>\n",
       "<p>712 rows × 3 columns</p>\n",
       "</div>"
      ]
     },
     "execution_count": 31,
     "metadata": {},
     "output_type": "execute_result"
    }
   ],
   "execution_count": 31
  },
  {
   "metadata": {
    "ExecuteTime": {
     "end_time": "2024-11-29T04:52:35.916127Z",
     "start_time": "2024-11-29T04:52:35.913101Z"
    }
   },
   "cell_type": "code",
   "source": [
    "imputer1 = SimpleImputer(strategy='median')\n",
    "imputer2 = SimpleImputer(strategy='mean')"
   ],
   "id": "55234efe10ca8b3d",
   "outputs": [],
   "execution_count": 29
  },
  {
   "metadata": {
    "ExecuteTime": {
     "end_time": "2024-11-29T04:53:26.724099Z",
     "start_time": "2024-11-29T04:53:26.719779Z"
    }
   },
   "cell_type": "code",
   "source": [
    "trf = ColumnTransformer([\n",
    "    ('imputer1',imputer1,['Age']),\n",
    "    ('imputer2',imputer2,['Fare'])\n",
    "])"
   ],
   "id": "a04ac61a86d81a00",
   "outputs": [],
   "execution_count": 32
  },
  {
   "metadata": {
    "ExecuteTime": {
     "end_time": "2024-11-29T04:54:13.716956Z",
     "start_time": "2024-11-29T04:54:13.703094Z"
    }
   },
   "cell_type": "code",
   "source": "trf.fit(X_train)",
   "id": "671d9c13df9e9031",
   "outputs": [
    {
     "data": {
      "text/plain": [
       "ColumnTransformer(transformers=[('imputer1', SimpleImputer(strategy='median'),\n",
       "                                 ['Age']),\n",
       "                                ('imputer2', SimpleImputer(), ['Fare'])])"
      ],
      "text/html": [
       "<style>#sk-container-id-1 {color: black;background-color: white;}#sk-container-id-1 pre{padding: 0;}#sk-container-id-1 div.sk-toggleable {background-color: white;}#sk-container-id-1 label.sk-toggleable__label {cursor: pointer;display: block;width: 100%;margin-bottom: 0;padding: 0.3em;box-sizing: border-box;text-align: center;}#sk-container-id-1 label.sk-toggleable__label-arrow:before {content: \"▸\";float: left;margin-right: 0.25em;color: #696969;}#sk-container-id-1 label.sk-toggleable__label-arrow:hover:before {color: black;}#sk-container-id-1 div.sk-estimator:hover label.sk-toggleable__label-arrow:before {color: black;}#sk-container-id-1 div.sk-toggleable__content {max-height: 0;max-width: 0;overflow: hidden;text-align: left;background-color: #f0f8ff;}#sk-container-id-1 div.sk-toggleable__content pre {margin: 0.2em;color: black;border-radius: 0.25em;background-color: #f0f8ff;}#sk-container-id-1 input.sk-toggleable__control:checked~div.sk-toggleable__content {max-height: 200px;max-width: 100%;overflow: auto;}#sk-container-id-1 input.sk-toggleable__control:checked~label.sk-toggleable__label-arrow:before {content: \"▾\";}#sk-container-id-1 div.sk-estimator input.sk-toggleable__control:checked~label.sk-toggleable__label {background-color: #d4ebff;}#sk-container-id-1 div.sk-label input.sk-toggleable__control:checked~label.sk-toggleable__label {background-color: #d4ebff;}#sk-container-id-1 input.sk-hidden--visually {border: 0;clip: rect(1px 1px 1px 1px);clip: rect(1px, 1px, 1px, 1px);height: 1px;margin: -1px;overflow: hidden;padding: 0;position: absolute;width: 1px;}#sk-container-id-1 div.sk-estimator {font-family: monospace;background-color: #f0f8ff;border: 1px dotted black;border-radius: 0.25em;box-sizing: border-box;margin-bottom: 0.5em;}#sk-container-id-1 div.sk-estimator:hover {background-color: #d4ebff;}#sk-container-id-1 div.sk-parallel-item::after {content: \"\";width: 100%;border-bottom: 1px solid gray;flex-grow: 1;}#sk-container-id-1 div.sk-label:hover label.sk-toggleable__label {background-color: #d4ebff;}#sk-container-id-1 div.sk-serial::before {content: \"\";position: absolute;border-left: 1px solid gray;box-sizing: border-box;top: 0;bottom: 0;left: 50%;z-index: 0;}#sk-container-id-1 div.sk-serial {display: flex;flex-direction: column;align-items: center;background-color: white;padding-right: 0.2em;padding-left: 0.2em;position: relative;}#sk-container-id-1 div.sk-item {position: relative;z-index: 1;}#sk-container-id-1 div.sk-parallel {display: flex;align-items: stretch;justify-content: center;background-color: white;position: relative;}#sk-container-id-1 div.sk-item::before, #sk-container-id-1 div.sk-parallel-item::before {content: \"\";position: absolute;border-left: 1px solid gray;box-sizing: border-box;top: 0;bottom: 0;left: 50%;z-index: -1;}#sk-container-id-1 div.sk-parallel-item {display: flex;flex-direction: column;z-index: 1;position: relative;background-color: white;}#sk-container-id-1 div.sk-parallel-item:first-child::after {align-self: flex-end;width: 50%;}#sk-container-id-1 div.sk-parallel-item:last-child::after {align-self: flex-start;width: 50%;}#sk-container-id-1 div.sk-parallel-item:only-child::after {width: 0;}#sk-container-id-1 div.sk-dashed-wrapped {border: 1px dashed gray;margin: 0 0.4em 0.5em 0.4em;box-sizing: border-box;padding-bottom: 0.4em;background-color: white;}#sk-container-id-1 div.sk-label label {font-family: monospace;font-weight: bold;display: inline-block;line-height: 1.2em;}#sk-container-id-1 div.sk-label-container {text-align: center;}#sk-container-id-1 div.sk-container {/* jupyter's `normalize.less` sets `[hidden] { display: none; }` but bootstrap.min.css set `[hidden] { display: none !important; }` so we also need the `!important` here to be able to override the default hidden behavior on the sphinx rendered scikit-learn.org. See: https://github.com/scikit-learn/scikit-learn/issues/21755 */display: inline-block !important;position: relative;}#sk-container-id-1 div.sk-text-repr-fallback {display: none;}</style><div id=\"sk-container-id-1\" class=\"sk-top-container\"><div class=\"sk-text-repr-fallback\"><pre>ColumnTransformer(transformers=[(&#x27;imputer1&#x27;, SimpleImputer(strategy=&#x27;median&#x27;),\n",
       "                                 [&#x27;Age&#x27;]),\n",
       "                                (&#x27;imputer2&#x27;, SimpleImputer(), [&#x27;Fare&#x27;])])</pre><b>In a Jupyter environment, please rerun this cell to show the HTML representation or trust the notebook. <br />On GitHub, the HTML representation is unable to render, please try loading this page with nbviewer.org.</b></div><div class=\"sk-container\" hidden><div class=\"sk-item sk-dashed-wrapped\"><div class=\"sk-label-container\"><div class=\"sk-label sk-toggleable\"><input class=\"sk-toggleable__control sk-hidden--visually\" id=\"sk-estimator-id-1\" type=\"checkbox\" ><label for=\"sk-estimator-id-1\" class=\"sk-toggleable__label sk-toggleable__label-arrow\">ColumnTransformer</label><div class=\"sk-toggleable__content\"><pre>ColumnTransformer(transformers=[(&#x27;imputer1&#x27;, SimpleImputer(strategy=&#x27;median&#x27;),\n",
       "                                 [&#x27;Age&#x27;]),\n",
       "                                (&#x27;imputer2&#x27;, SimpleImputer(), [&#x27;Fare&#x27;])])</pre></div></div></div><div class=\"sk-parallel\"><div class=\"sk-parallel-item\"><div class=\"sk-item\"><div class=\"sk-label-container\"><div class=\"sk-label sk-toggleable\"><input class=\"sk-toggleable__control sk-hidden--visually\" id=\"sk-estimator-id-2\" type=\"checkbox\" ><label for=\"sk-estimator-id-2\" class=\"sk-toggleable__label sk-toggleable__label-arrow\">imputer1</label><div class=\"sk-toggleable__content\"><pre>[&#x27;Age&#x27;]</pre></div></div></div><div class=\"sk-serial\"><div class=\"sk-item\"><div class=\"sk-estimator sk-toggleable\"><input class=\"sk-toggleable__control sk-hidden--visually\" id=\"sk-estimator-id-3\" type=\"checkbox\" ><label for=\"sk-estimator-id-3\" class=\"sk-toggleable__label sk-toggleable__label-arrow\">SimpleImputer</label><div class=\"sk-toggleable__content\"><pre>SimpleImputer(strategy=&#x27;median&#x27;)</pre></div></div></div></div></div></div><div class=\"sk-parallel-item\"><div class=\"sk-item\"><div class=\"sk-label-container\"><div class=\"sk-label sk-toggleable\"><input class=\"sk-toggleable__control sk-hidden--visually\" id=\"sk-estimator-id-4\" type=\"checkbox\" ><label for=\"sk-estimator-id-4\" class=\"sk-toggleable__label sk-toggleable__label-arrow\">imputer2</label><div class=\"sk-toggleable__content\"><pre>[&#x27;Fare&#x27;]</pre></div></div></div><div class=\"sk-serial\"><div class=\"sk-item\"><div class=\"sk-estimator sk-toggleable\"><input class=\"sk-toggleable__control sk-hidden--visually\" id=\"sk-estimator-id-5\" type=\"checkbox\" ><label for=\"sk-estimator-id-5\" class=\"sk-toggleable__label sk-toggleable__label-arrow\">SimpleImputer</label><div class=\"sk-toggleable__content\"><pre>SimpleImputer()</pre></div></div></div></div></div></div></div></div></div></div>"
      ]
     },
     "execution_count": 34,
     "metadata": {},
     "output_type": "execute_result"
    }
   ],
   "execution_count": 34
  },
  {
   "metadata": {
    "ExecuteTime": {
     "end_time": "2024-11-29T04:54:46.514769Z",
     "start_time": "2024-11-29T04:54:46.509586Z"
    }
   },
   "cell_type": "code",
   "source": "trf.named_transformers_['imputer1'].statistics_",
   "id": "a00551902f7da125",
   "outputs": [
    {
     "data": {
      "text/plain": [
       "array([28.75])"
      ]
     },
     "execution_count": 36,
     "metadata": {},
     "output_type": "execute_result"
    }
   ],
   "execution_count": 36
  },
  {
   "metadata": {
    "ExecuteTime": {
     "end_time": "2024-11-29T04:55:28.157137Z",
     "start_time": "2024-11-29T04:55:28.145597Z"
    }
   },
   "cell_type": "code",
   "source": [
    "X_train = trf.transform(X_train)\n",
    "X_test = trf.transform(X_test)"
   ],
   "id": "f46a4d805fef3d16",
   "outputs": [],
   "execution_count": 37
  },
  {
   "metadata": {
    "ExecuteTime": {
     "end_time": "2024-11-29T04:55:30.601136Z",
     "start_time": "2024-11-29T04:55:30.596101Z"
    }
   },
   "cell_type": "code",
   "source": "X_train",
   "id": "b95e9d9abca3511d",
   "outputs": [
    {
     "data": {
      "text/plain": [
       "array([[ 40.    ,  27.7208],\n",
       "       [  4.    ,  16.7   ],\n",
       "       [ 47.    ,   9.    ],\n",
       "       ...,\n",
       "       [ 71.    ,  49.5042],\n",
       "       [ 28.75  , 221.7792],\n",
       "       [ 28.75  ,  25.925 ]])"
      ]
     },
     "execution_count": 38,
     "metadata": {},
     "output_type": "execute_result"
    }
   ],
   "execution_count": 38
  },
  {
   "metadata": {
    "ExecuteTime": {
     "end_time": "2024-11-29T04:56:03.174023Z",
     "start_time": "2024-11-29T04:56:03.170238Z"
    }
   },
   "cell_type": "code",
   "source": "X_train = pd.DataFrame(X_train,columns=['Age','Fare'])",
   "id": "967c6ea578a13725",
   "outputs": [],
   "execution_count": 39
  },
  {
   "metadata": {
    "ExecuteTime": {
     "end_time": "2024-11-29T04:56:05.596285Z",
     "start_time": "2024-11-29T04:56:05.583162Z"
    }
   },
   "cell_type": "code",
   "source": "X_train",
   "id": "622cef75a3d7d31c",
   "outputs": [
    {
     "data": {
      "text/plain": [
       "       Age      Fare\n",
       "0    40.00   27.7208\n",
       "1     4.00   16.7000\n",
       "2    47.00    9.0000\n",
       "3     9.00   31.3875\n",
       "4    20.00    9.8458\n",
       "..     ...       ...\n",
       "707  30.00    8.6625\n",
       "708  28.75    8.7125\n",
       "709  71.00   49.5042\n",
       "710  28.75  221.7792\n",
       "711  28.75   25.9250\n",
       "\n",
       "[712 rows x 2 columns]"
      ],
      "text/html": [
       "<div>\n",
       "<style scoped>\n",
       "    .dataframe tbody tr th:only-of-type {\n",
       "        vertical-align: middle;\n",
       "    }\n",
       "\n",
       "    .dataframe tbody tr th {\n",
       "        vertical-align: top;\n",
       "    }\n",
       "\n",
       "    .dataframe thead th {\n",
       "        text-align: right;\n",
       "    }\n",
       "</style>\n",
       "<table border=\"1\" class=\"dataframe\">\n",
       "  <thead>\n",
       "    <tr style=\"text-align: right;\">\n",
       "      <th></th>\n",
       "      <th>Age</th>\n",
       "      <th>Fare</th>\n",
       "    </tr>\n",
       "  </thead>\n",
       "  <tbody>\n",
       "    <tr>\n",
       "      <th>0</th>\n",
       "      <td>40.00</td>\n",
       "      <td>27.7208</td>\n",
       "    </tr>\n",
       "    <tr>\n",
       "      <th>1</th>\n",
       "      <td>4.00</td>\n",
       "      <td>16.7000</td>\n",
       "    </tr>\n",
       "    <tr>\n",
       "      <th>2</th>\n",
       "      <td>47.00</td>\n",
       "      <td>9.0000</td>\n",
       "    </tr>\n",
       "    <tr>\n",
       "      <th>3</th>\n",
       "      <td>9.00</td>\n",
       "      <td>31.3875</td>\n",
       "    </tr>\n",
       "    <tr>\n",
       "      <th>4</th>\n",
       "      <td>20.00</td>\n",
       "      <td>9.8458</td>\n",
       "    </tr>\n",
       "    <tr>\n",
       "      <th>...</th>\n",
       "      <td>...</td>\n",
       "      <td>...</td>\n",
       "    </tr>\n",
       "    <tr>\n",
       "      <th>707</th>\n",
       "      <td>30.00</td>\n",
       "      <td>8.6625</td>\n",
       "    </tr>\n",
       "    <tr>\n",
       "      <th>708</th>\n",
       "      <td>28.75</td>\n",
       "      <td>8.7125</td>\n",
       "    </tr>\n",
       "    <tr>\n",
       "      <th>709</th>\n",
       "      <td>71.00</td>\n",
       "      <td>49.5042</td>\n",
       "    </tr>\n",
       "    <tr>\n",
       "      <th>710</th>\n",
       "      <td>28.75</td>\n",
       "      <td>221.7792</td>\n",
       "    </tr>\n",
       "    <tr>\n",
       "      <th>711</th>\n",
       "      <td>28.75</td>\n",
       "      <td>25.9250</td>\n",
       "    </tr>\n",
       "  </tbody>\n",
       "</table>\n",
       "<p>712 rows × 2 columns</p>\n",
       "</div>"
      ]
     },
     "execution_count": 40,
     "metadata": {},
     "output_type": "execute_result"
    }
   ],
   "execution_count": 40
  },
  {
   "metadata": {},
   "cell_type": "markdown",
   "source": "# Arbitrary Value Imputation",
   "id": "19c5e09fc6bde0d4"
  },
  {
   "metadata": {
    "ExecuteTime": {
     "end_time": "2024-11-29T05:07:02.464476Z",
     "start_time": "2024-11-29T05:07:02.459687Z"
    }
   },
   "cell_type": "code",
   "source": "X_train,X_test,y_train,y_test = train_test_split(X,y,test_size=0.2,random_state=2)",
   "id": "724e1a291cbb2606",
   "outputs": [],
   "execution_count": 52
  },
  {
   "metadata": {
    "ExecuteTime": {
     "end_time": "2024-11-29T05:07:03.667925Z",
     "start_time": "2024-11-29T05:07:03.662598Z"
    }
   },
   "cell_type": "code",
   "source": [
    "X_train['Age_99'] = X_train['Age'].fillna(99)\n",
    "X_train['Age_m1'] = X_train['Age'].fillna(-1)\n",
    "\n",
    "X_train['Fare_99'] = X_train['Fare'].fillna(99)\n",
    "X_train['Fare_m1'] = X_train['Fare'].fillna(-1)"
   ],
   "id": "fa6e0b0d21195f8c",
   "outputs": [],
   "execution_count": 53
  },
  {
   "metadata": {
    "ExecuteTime": {
     "end_time": "2024-11-29T05:07:04.559847Z",
     "start_time": "2024-11-29T05:07:04.554532Z"
    }
   },
   "cell_type": "code",
   "source": "X_train.isnull().sum()",
   "id": "321d9a36052fb76f",
   "outputs": [
    {
     "data": {
      "text/plain": [
       "Age        148\n",
       "Fare        36\n",
       "Family       0\n",
       "Age_99       0\n",
       "Age_m1       0\n",
       "Fare_99      0\n",
       "Fare_m1      0\n",
       "dtype: int64"
      ]
     },
     "execution_count": 54,
     "metadata": {},
     "output_type": "execute_result"
    }
   ],
   "execution_count": 54
  },
  {
   "metadata": {
    "ExecuteTime": {
     "end_time": "2024-11-29T05:07:08.837337Z",
     "start_time": "2024-11-29T05:07:08.830095Z"
    }
   },
   "cell_type": "code",
   "source": [
    "print('Original Age variable Variance:', X_train['Age'].var())\n",
    "print('Age Variance after median Imputation:', X_train['Age_99'].var())\n",
    "print('Age variance after mean Imputation:', X_train['Age_m1'].var())\n",
    "\n",
    "print('Original Fare variable Variance:', X_train['Fare'].var())\n",
    "print('Fare Variance after median Imputation:', X_train['Fare_99'].var())\n",
    "print('Fare variance after mean Imputation:', X_train['Fare_m1'].var())"
   ],
   "id": "385b11947d3a6f30",
   "outputs": [
    {
     "name": "stdout",
     "output_type": "stream",
     "text": [
      "Original Age variable Variance: 204.3495133904614\n",
      "Age Variance after median Imputation: 951.7275570187172\n",
      "Age variance after mean Imputation: 318.0896202624484\n",
      "Original Fare variable Variance: 2448.197913706318\n",
      "Fare Variance after median Imputation: 2536.0773428319685\n",
      "Fare variance after mean Imputation: 2378.5676784883503\n"
     ]
    }
   ],
   "execution_count": 55
  },
  {
   "metadata": {
    "ExecuteTime": {
     "end_time": "2024-11-29T05:07:14.166798Z",
     "start_time": "2024-11-29T05:07:13.917463Z"
    }
   },
   "cell_type": "code",
   "source": [
    "fig = plt.figure()\n",
    "ax = fig.add_subplot(111)\n",
    "\n",
    "X_train['Age'].plot(kind='kde',ax=ax)\n",
    "\n",
    "X_train['Age_99'].plot(kind='kde',ax=ax,color='red')\n",
    "\n",
    "X_train['Age_m1'].plot(kind='kde',ax=ax,color='blue')\n",
    "\n",
    "lines,labels = ax.get_legend_handles_labels()\n",
    "ax.legend(lines,labels,loc='best')"
   ],
   "id": "9fe31637b7735f2f",
   "outputs": [
    {
     "data": {
      "text/plain": [
       "<matplotlib.legend.Legend at 0x18a4cb7a550>"
      ]
     },
     "execution_count": 56,
     "metadata": {},
     "output_type": "execute_result"
    },
    {
     "data": {
      "text/plain": [
       "<Figure size 640x480 with 1 Axes>"
      ],
      "image/png": "[encoded data removed]"
     },
     "metadata": {},
     "output_type": "display_data"
    }
   ],
   "execution_count": 56
  },
  {
   "metadata": {
    "ExecuteTime": {
     "end_time": "2024-11-29T05:07:50.112074Z",
     "start_time": "2024-11-29T05:07:49.847724Z"
    }
   },
   "cell_type": "code",
   "source": [
    "fig = plt.figure()\n",
    "ax = fig.add_subplot(111)\n",
    "\n",
    "X_train['Fare'].plot(kind='kde',ax=ax)\n",
    "\n",
    "X_train['Fare_99'].plot(kind='kde',ax=ax,color='red')\n",
    "\n",
    "X_train['Fare_m1'].plot(kind='kde',ax=ax,color='blue')\n",
    "\n",
    "lines,labels = ax.get_legend_handles_labels()\n",
    "ax.legend(lines,labels,loc='best')"
   ],
   "id": "3f477b7451afd81e",
   "outputs": [
    {
     "data": {
      "text/plain": [
       "<matplotlib.legend.Legend at 0x18a4ba5ac90>"
      ]
     },
     "execution_count": 57,
     "metadata": {},
     "output_type": "execute_result"
    },
    {
     "data": {
      "text/plain": [
       "<Figure size 640x480 with 1 Axes>"
      ],
      "image/png": "[encoded data removed]"
     },
     "metadata": {},
     "output_type": "display_data"
    }
   ],
   "execution_count": 57
  },
  {
   "metadata": {},
   "cell_type": "code",
   "outputs": [],
   "execution_count": null,
   "source": "imputer1 = SimpleImputer(strategy='constant',fill_value=99)",
   "id": "4035ee4522a2aeb1"
  },
  {
   "metadata": {},
   "cell_type": "code",
   "outputs": [],
   "execution_count": null,
   "source": "",
   "id": "f6484ffab2ba82ab"
  }
 ],
 "metadata": {
  "kernelspec": {
   "display_name": "Python 3",
   "language": "python",
   "name": "python3"
  },
  "language_info": {
   "codemirror_mode": {
    "name": "ipython",
    "version": 2
   },
   "file_extension": ".py",
   "mimetype": "text/x-python",
   "name": "python",
   "nbconvert_exporter": "python",
   "pygments_lexer": "ipython2",
   "version": "2.7.6"
  }
 },
 "nbformat": 4,
 "nbformat_minor": 5
}

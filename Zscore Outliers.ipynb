{
 "cells": [
  {
   "cell_type": "code",
   "id": "initial_id",
   "metadata": {
    "collapsed": true,
    "ExecuteTime": {
     "end_time": "2024-12-05T03:51:01.685218Z",
     "start_time": "2024-12-05T03:50:59.940014Z"
    }
   },
   "source": [
    "import numpy as np\n",
    "import pandas as pd\n",
    "import matplotlib.pyplot as plt\n",
    "import seaborn as sns"
   ],
   "outputs": [],
   "execution_count": 5
  },
  {
   "metadata": {
    "ExecuteTime": {
     "end_time": "2024-12-05T03:50:27.709547Z",
     "start_time": "2024-12-05T03:50:27.499716Z"
    }
   },
   "cell_type": "code",
   "source": "df = pd.read_csv('placement.csv')",
   "id": "6153e7b3daa953f1",
   "outputs": [],
   "execution_count": 3
  },
  {
   "metadata": {
    "ExecuteTime": {
     "end_time": "2024-12-05T03:50:29.951287Z",
     "start_time": "2024-12-05T03:50:29.936406Z"
    }
   },
   "cell_type": "code",
   "source": "df.head()",
   "id": "5edd51b8110f1aa",
   "outputs": [
    {
     "data": {
      "text/plain": [
       "   cgpa  placement_exam_marks  placed\n",
       "0  7.19                  26.0       1\n",
       "1  7.46                  38.0       1\n",
       "2  7.54                  40.0       1\n",
       "3  6.42                   8.0       1\n",
       "4  7.23                  17.0       0"
      ],
      "text/html": [
       "<div>\n",
       "<style scoped>\n",
       "    .dataframe tbody tr th:only-of-type {\n",
       "        vertical-align: middle;\n",
       "    }\n",
       "\n",
       "    .dataframe tbody tr th {\n",
       "        vertical-align: top;\n",
       "    }\n",
       "\n",
       "    .dataframe thead th {\n",
       "        text-align: right;\n",
       "    }\n",
       "</style>\n",
       "<table border=\"1\" class=\"dataframe\">\n",
       "  <thead>\n",
       "    <tr style=\"text-align: right;\">\n",
       "      <th></th>\n",
       "      <th>cgpa</th>\n",
       "      <th>placement_exam_marks</th>\n",
       "      <th>placed</th>\n",
       "    </tr>\n",
       "  </thead>\n",
       "  <tbody>\n",
       "    <tr>\n",
       "      <th>0</th>\n",
       "      <td>7.19</td>\n",
       "      <td>26.0</td>\n",
       "      <td>1</td>\n",
       "    </tr>\n",
       "    <tr>\n",
       "      <th>1</th>\n",
       "      <td>7.46</td>\n",
       "      <td>38.0</td>\n",
       "      <td>1</td>\n",
       "    </tr>\n",
       "    <tr>\n",
       "      <th>2</th>\n",
       "      <td>7.54</td>\n",
       "      <td>40.0</td>\n",
       "      <td>1</td>\n",
       "    </tr>\n",
       "    <tr>\n",
       "      <th>3</th>\n",
       "      <td>6.42</td>\n",
       "      <td>8.0</td>\n",
       "      <td>1</td>\n",
       "    </tr>\n",
       "    <tr>\n",
       "      <th>4</th>\n",
       "      <td>7.23</td>\n",
       "      <td>17.0</td>\n",
       "      <td>0</td>\n",
       "    </tr>\n",
       "  </tbody>\n",
       "</table>\n",
       "</div>"
      ]
     },
     "execution_count": 4,
     "metadata": {},
     "output_type": "execute_result"
    }
   ],
   "execution_count": 4
  },
  {
   "metadata": {
    "ExecuteTime": {
     "end_time": "2024-12-05T03:52:08.859326Z",
     "start_time": "2024-12-05T03:52:08.581276Z"
    }
   },
   "cell_type": "code",
   "source": [
    "plt.figure(figsize=(16,5))\n",
    "plt.subplot(1,2,1)\n",
    "sns.distplot(df['cgpa'],hist=False)\n",
    "\n",
    "plt.subplot(1,2,2)\n",
    "sns.distplot(df['placement_exam_marks'],hist=False)\n",
    "\n",
    "plt.show()"
   ],
   "id": "5915e6ffdd6f8b2a",
   "outputs": [
    {
     "name": "stderr",
     "output_type": "stream",
     "text": [
      "C:\\Users\\TUSHAR GANDHI\\AppData\\Local\\Temp\\ipykernel_9484\\3870382193.py:3: UserWarning: \n",
      "\n",
      "`distplot` is a deprecated function and will be removed in seaborn v0.14.0.\n",
      "\n",
      "Please adapt your code to use either `displot` (a figure-level function with\n",
      "similar flexibility) or `kdeplot` (an axes-level function for kernel density plots).\n",
      "\n",
      "For a guide to updating your code to use the new functions, please see\n",
      "https://gist.github.com/mwaskom/de44147ed2974457ad6372750bbe5751\n",
      "\n",
      "  sns.distplot(df['cgpa'],hist=False)\n",
      "C:\\ProgramData\\anaconda3\\Lib\\site-packages\\seaborn\\_oldcore.py:1119: FutureWarning: use_inf_as_na option is deprecated and will be removed in a future version. Convert inf values to NaN before operating instead.\n",
      "  with pd.option_context('mode.use_inf_as_na', True):\n",
      "C:\\Users\\TUSHAR GANDHI\\AppData\\Local\\Temp\\ipykernel_9484\\3870382193.py:6: UserWarning: \n",
      "\n",
      "`distplot` is a deprecated function and will be removed in seaborn v0.14.0.\n",
      "\n",
      "Please adapt your code to use either `displot` (a figure-level function with\n",
      "similar flexibility) or `kdeplot` (an axes-level function for kernel density plots).\n",
      "\n",
      "For a guide to updating your code to use the new functions, please see\n",
      "https://gist.github.com/mwaskom/de44147ed2974457ad6372750bbe5751\n",
      "\n",
      "  sns.distplot(df['placement_exam_marks'],hist=False)\n",
      "C:\\ProgramData\\anaconda3\\Lib\\site-packages\\seaborn\\_oldcore.py:1119: FutureWarning: use_inf_as_na option is deprecated and will be removed in a future version. Convert inf values to NaN before operating instead.\n",
      "  with pd.option_context('mode.use_inf_as_na', True):\n"
     ]
    },
    {
     "data": {
      "text/plain": [
       "<Figure size 1600x500 with 2 Axes>"
      ],
      "image/png": "[encoded data removed]"
     },
     "metadata": {},
     "output_type": "display_data"
    }
   ],
   "execution_count": 7
  },
  {
   "metadata": {
    "ExecuteTime": {
     "end_time": "2024-12-05T03:53:22.468074Z",
     "start_time": "2024-12-05T03:53:22.461524Z"
    }
   },
   "cell_type": "code",
   "source": [
    "print(\"Mean value of cgpa:\",df['cgpa'].mean())\n",
    "print(\"Median value of cgpa:\",df['cgpa'].median())\n",
    "print(\"Standard deviation of cgpa:\",df['cgpa'].std())\n",
    "print(\"Max value of cgpa:\",df['cgpa'].max())\n",
    "print(\"Min value of cgpa:\",df['cgpa'].min())"
   ],
   "id": "6e5c69e651f4167f",
   "outputs": [
    {
     "name": "stdout",
     "output_type": "stream",
     "text": [
      "Mean value of cgpa: 6.96124\n",
      "Median value of cgpa: 6.96\n",
      "Standard deviation of cgpa: 0.6158978751323894\n",
      "Max value of cgpa: 9.12\n",
      "Min value of cgpa: 4.89\n"
     ]
    }
   ],
   "execution_count": 8
  },
  {
   "metadata": {
    "ExecuteTime": {
     "end_time": "2024-12-05T03:54:33.359752Z",
     "start_time": "2024-12-05T03:54:33.354650Z"
    }
   },
   "cell_type": "code",
   "source": [
    "print(\"Higest allowed\",df['cgpa'].mean() + 3*df['cgpa'].std())\n",
    "print(\"lowest allowed\",df['cgpa'].mean() - 3*df['cgpa'].std())"
   ],
   "id": "e9249529bd5915de",
   "outputs": [
    {
     "name": "stdout",
     "output_type": "stream",
     "text": [
      "Higest allowed 8.808933625397168\n",
      "lowest allowed 5.113546374602832\n"
     ]
    }
   ],
   "execution_count": 9
  },
  {
   "metadata": {
    "ExecuteTime": {
     "end_time": "2024-12-05T03:56:09.624520Z",
     "start_time": "2024-12-05T03:56:09.615127Z"
    }
   },
   "cell_type": "code",
   "source": "df[(df['cgpa'] > 8.80) | (df['cgpa'] < 5.11)]",
   "id": "e4b6e75cc7968dfb",
   "outputs": [
    {
     "data": {
      "text/plain": [
       "     cgpa  placement_exam_marks  placed\n",
       "485  4.92                  44.0       1\n",
       "995  8.87                  44.0       1\n",
       "996  9.12                  65.0       1\n",
       "997  4.89                  34.0       0\n",
       "999  4.90                  10.0       1"
      ],
      "text/html": [
       "<div>\n",
       "<style scoped>\n",
       "    .dataframe tbody tr th:only-of-type {\n",
       "        vertical-align: middle;\n",
       "    }\n",
       "\n",
       "    .dataframe tbody tr th {\n",
       "        vertical-align: top;\n",
       "    }\n",
       "\n",
       "    .dataframe thead th {\n",
       "        text-align: right;\n",
       "    }\n",
       "</style>\n",
       "<table border=\"1\" class=\"dataframe\">\n",
       "  <thead>\n",
       "    <tr style=\"text-align: right;\">\n",
       "      <th></th>\n",
       "      <th>cgpa</th>\n",
       "      <th>placement_exam_marks</th>\n",
       "      <th>placed</th>\n",
       "    </tr>\n",
       "  </thead>\n",
       "  <tbody>\n",
       "    <tr>\n",
       "      <th>485</th>\n",
       "      <td>4.92</td>\n",
       "      <td>44.0</td>\n",
       "      <td>1</td>\n",
       "    </tr>\n",
       "    <tr>\n",
       "      <th>995</th>\n",
       "      <td>8.87</td>\n",
       "      <td>44.0</td>\n",
       "      <td>1</td>\n",
       "    </tr>\n",
       "    <tr>\n",
       "      <th>996</th>\n",
       "      <td>9.12</td>\n",
       "      <td>65.0</td>\n",
       "      <td>1</td>\n",
       "    </tr>\n",
       "    <tr>\n",
       "      <th>997</th>\n",
       "      <td>4.89</td>\n",
       "      <td>34.0</td>\n",
       "      <td>0</td>\n",
       "    </tr>\n",
       "    <tr>\n",
       "      <th>999</th>\n",
       "      <td>4.90</td>\n",
       "      <td>10.0</td>\n",
       "      <td>1</td>\n",
       "    </tr>\n",
       "  </tbody>\n",
       "</table>\n",
       "</div>"
      ]
     },
     "execution_count": 12,
     "metadata": {},
     "output_type": "execute_result"
    }
   ],
   "execution_count": 12
  },
  {
   "metadata": {},
   "cell_type": "markdown",
   "source": "## Trimming",
   "id": "cafa55c339143466"
  },
  {
   "metadata": {
    "ExecuteTime": {
     "end_time": "2024-12-05T03:57:49.776459Z",
     "start_time": "2024-12-05T03:57:49.770975Z"
    }
   },
   "cell_type": "code",
   "source": "new_df = df[(df['cgpa'] < 8.80) & (df['cgpa'] > 5.11)]",
   "id": "6dd081a25eed35e5",
   "outputs": [],
   "execution_count": 18
  },
  {
   "metadata": {
    "ExecuteTime": {
     "end_time": "2024-12-05T03:57:50.250068Z",
     "start_time": "2024-12-05T03:57:50.244124Z"
    }
   },
   "cell_type": "code",
   "source": "new_df.shape",
   "id": "b28769b9143acea2",
   "outputs": [
    {
     "data": {
      "text/plain": [
       "(995, 3)"
      ]
     },
     "execution_count": 19,
     "metadata": {},
     "output_type": "execute_result"
    }
   ],
   "execution_count": 19
  },
  {
   "metadata": {},
   "cell_type": "markdown",
   "source": "## approch 2",
   "id": "1652a3e96b6c512f"
  },
  {
   "metadata": {
    "ExecuteTime": {
     "end_time": "2024-12-05T04:00:22.608093Z",
     "start_time": "2024-12-05T04:00:22.603409Z"
    }
   },
   "cell_type": "code",
   "source": "df['zscore'] = (df['cgpa'] - df['cgpa'].mean())/df['cgpa'].std()",
   "id": "bf2909d11ddaa27",
   "outputs": [],
   "execution_count": 20
  },
  {
   "metadata": {
    "ExecuteTime": {
     "end_time": "2024-12-05T04:00:40.480356Z",
     "start_time": "2024-12-05T04:00:40.471925Z"
    }
   },
   "cell_type": "code",
   "source": "df[df['zscore'] > 3]",
   "id": "42450236f48e019b",
   "outputs": [
    {
     "data": {
      "text/plain": [
       "     cgpa  placement_exam_marks  placed    zscore\n",
       "995  8.87                  44.0       1  3.099150\n",
       "996  9.12                  65.0       1  3.505062"
      ],
      "text/html": [
       "<div>\n",
       "<style scoped>\n",
       "    .dataframe tbody tr th:only-of-type {\n",
       "        vertical-align: middle;\n",
       "    }\n",
       "\n",
       "    .dataframe tbody tr th {\n",
       "        vertical-align: top;\n",
       "    }\n",
       "\n",
       "    .dataframe thead th {\n",
       "        text-align: right;\n",
       "    }\n",
       "</style>\n",
       "<table border=\"1\" class=\"dataframe\">\n",
       "  <thead>\n",
       "    <tr style=\"text-align: right;\">\n",
       "      <th></th>\n",
       "      <th>cgpa</th>\n",
       "      <th>placement_exam_marks</th>\n",
       "      <th>placed</th>\n",
       "      <th>zscore</th>\n",
       "    </tr>\n",
       "  </thead>\n",
       "  <tbody>\n",
       "    <tr>\n",
       "      <th>995</th>\n",
       "      <td>8.87</td>\n",
       "      <td>44.0</td>\n",
       "      <td>1</td>\n",
       "      <td>3.099150</td>\n",
       "    </tr>\n",
       "    <tr>\n",
       "      <th>996</th>\n",
       "      <td>9.12</td>\n",
       "      <td>65.0</td>\n",
       "      <td>1</td>\n",
       "      <td>3.505062</td>\n",
       "    </tr>\n",
       "  </tbody>\n",
       "</table>\n",
       "</div>"
      ]
     },
     "execution_count": 21,
     "metadata": {},
     "output_type": "execute_result"
    }
   ],
   "execution_count": 21
  },
  {
   "metadata": {
    "ExecuteTime": {
     "end_time": "2024-12-05T04:01:11.348525Z",
     "start_time": "2024-12-05T04:01:11.339379Z"
    }
   },
   "cell_type": "code",
   "source": "df[df['zscore'] < -3]",
   "id": "c54c9be11f1ab0e7",
   "outputs": [
    {
     "data": {
      "text/plain": [
       "     cgpa  placement_exam_marks  placed    zscore\n",
       "485  4.92                  44.0       1 -3.314251\n",
       "997  4.89                  34.0       0 -3.362960\n",
       "999  4.90                  10.0       1 -3.346724"
      ],
      "text/html": [
       "<div>\n",
       "<style scoped>\n",
       "    .dataframe tbody tr th:only-of-type {\n",
       "        vertical-align: middle;\n",
       "    }\n",
       "\n",
       "    .dataframe tbody tr th {\n",
       "        vertical-align: top;\n",
       "    }\n",
       "\n",
       "    .dataframe thead th {\n",
       "        text-align: right;\n",
       "    }\n",
       "</style>\n",
       "<table border=\"1\" class=\"dataframe\">\n",
       "  <thead>\n",
       "    <tr style=\"text-align: right;\">\n",
       "      <th></th>\n",
       "      <th>cgpa</th>\n",
       "      <th>placement_exam_marks</th>\n",
       "      <th>placed</th>\n",
       "      <th>zscore</th>\n",
       "    </tr>\n",
       "  </thead>\n",
       "  <tbody>\n",
       "    <tr>\n",
       "      <th>485</th>\n",
       "      <td>4.92</td>\n",
       "      <td>44.0</td>\n",
       "      <td>1</td>\n",
       "      <td>-3.314251</td>\n",
       "    </tr>\n",
       "    <tr>\n",
       "      <th>997</th>\n",
       "      <td>4.89</td>\n",
       "      <td>34.0</td>\n",
       "      <td>0</td>\n",
       "      <td>-3.362960</td>\n",
       "    </tr>\n",
       "    <tr>\n",
       "      <th>999</th>\n",
       "      <td>4.90</td>\n",
       "      <td>10.0</td>\n",
       "      <td>1</td>\n",
       "      <td>-3.346724</td>\n",
       "    </tr>\n",
       "  </tbody>\n",
       "</table>\n",
       "</div>"
      ]
     },
     "execution_count": 23,
     "metadata": {},
     "output_type": "execute_result"
    }
   ],
   "execution_count": 23
  },
  {
   "metadata": {},
   "cell_type": "markdown",
   "source": "# Capping",
   "id": "8472faede004b946"
  },
  {
   "metadata": {},
   "cell_type": "code",
   "outputs": [],
   "execution_count": null,
   "source": "# np.where(condition,true,false)",
   "id": "b7bc3268c7d5403f"
  },
  {
   "metadata": {
    "ExecuteTime": {
     "end_time": "2024-12-05T04:02:45.079332Z",
     "start_time": "2024-12-05T04:02:45.073157Z"
    }
   },
   "cell_type": "code",
   "source": [
    "upper_limit = df['cgpa'].mean() + 3*df['cgpa'].std()\n",
    "lower_limit = df['cgpa'].mean() - 3*df['cgpa'].std()"
   ],
   "id": "4e4e33258a7458a1",
   "outputs": [],
   "execution_count": 24
  },
  {
   "metadata": {
    "ExecuteTime": {
     "end_time": "2024-12-05T04:04:04.094320Z",
     "start_time": "2024-12-05T04:04:04.079218Z"
    }
   },
   "cell_type": "code",
   "source": [
    "df['cgpa'] = np.where(\n",
    "    df['cgpa'] > upper_limit,\n",
    "    upper_limit,\n",
    "    np.where(\n",
    "        df['cgpa'] < lower_limit,\n",
    "        lower_limit,\n",
    "        df['cgpa']\n",
    "    )\n",
    ")"
   ],
   "id": "22fbd1a8332973d7",
   "outputs": [],
   "execution_count": 25
  },
  {
   "metadata": {
    "ExecuteTime": {
     "end_time": "2024-12-05T04:05:46.242226Z",
     "start_time": "2024-12-05T04:05:46.233334Z"
    }
   },
   "cell_type": "code",
   "source": "df['cgpa'].describe()",
   "id": "82912b833aa0c3c7",
   "outputs": [
    {
     "data": {
      "text/plain": [
       "count    1000.000000\n",
       "mean        6.961499\n",
       "std         0.612688\n",
       "min         5.113546\n",
       "25%         6.550000\n",
       "50%         6.960000\n",
       "75%         7.370000\n",
       "max         8.808934\n",
       "Name: cgpa, dtype: float64"
      ]
     },
     "execution_count": 28,
     "metadata": {},
     "output_type": "execute_result"
    }
   ],
   "execution_count": 28
  },
  {
   "metadata": {},
   "cell_type": "code",
   "outputs": [],
   "execution_count": null,
   "source": "",
   "id": "5cbbd5c5363fe7ae"
  }
 ],
 "metadata": {
  "kernelspec": {
   "display_name": "Python 3",
   "language": "python",
   "name": "python3"
  },
  "language_info": {
   "codemirror_mode": {
    "name": "ipython",
    "version": 2
   },
   "file_extension": ".py",
   "mimetype": "text/x-python",
   "name": "python",
   "nbconvert_exporter": "python",
   "pygments_lexer": "ipython2",
   "version": "2.7.6"
  }
 },
 "nbformat": 4,
 "nbformat_minor": 5
}
